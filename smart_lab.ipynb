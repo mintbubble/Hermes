{
 "cells": [
  {
   "cell_type": "code",
   "execution_count": 1,
   "id": "ce260996",
   "metadata": {},
   "outputs": [
    {
     "name": "stdin",
     "output_type": "stream",
     "text": [
      "Please enter password for encrypted keyring:  ······\n"
     ]
    }
   ],
   "source": [
    "import clickhouse_driver\n",
    "from keyrings.cryptfile.cryptfile import CryptFileKeyring\n",
    "kr = CryptFileKeyring()\n",
    "cfg = {'host': kr.get_password(\"etl\", \"dwh_host\"), 'port': kr.get_password(\"etl\", \"dwh_port\"), 'database': kr.get_password(\"etl\", \"dwh_database\"),\n",
    "       'user': kr.get_password(\"etl\", \"dwh_user\"), 'password': kr.get_password(\"etl\", \"dwh_password\")}"
   ]
  },
  {
   "cell_type": "code",
   "execution_count": 2,
   "id": "650f9394",
   "metadata": {},
   "outputs": [],
   "source": [
    "import pandas as pd\n",
    "import numpy as np\n",
    "import math\n",
    "import clickhouse_driver\n",
    "# from pymongo import MongoClient\n",
    "from tqdm import tqdm\n",
    "import datetime"
   ]
  },
  {
   "cell_type": "code",
   "execution_count": 3,
   "id": "51905000",
   "metadata": {},
   "outputs": [
    {
     "name": "stderr",
     "output_type": "stream",
     "text": [
      "/tmp/ipykernel_28194/3510607918.py:1: DtypeWarning: Columns (53,54,55,59,60,61,62,63,64,65,66) have mixed types. Specify dtype option on import or set low_memory=False.\n",
      "  smart_q = pd.read_csv('smart_lab_quartal.csv')\n"
     ]
    }
   ],
   "source": [
    "smart_q = pd.read_csv('smart_lab_quartal.csv')"
   ]
  },
  {
   "cell_type": "code",
   "execution_count": 4,
   "id": "771e763f",
   "metadata": {},
   "outputs": [],
   "source": [
    "smart_q.drop(columns='Unnamed: 0.1', inplace=True)"
   ]
  },
  {
   "cell_type": "code",
   "execution_count": 5,
   "id": "65ed0aec",
   "metadata": {},
   "outputs": [],
   "source": [
    "smart_q.rename(columns={'Unnamed: 0':'metric'}, inplace=True)"
   ]
  },
  {
   "cell_type": "code",
   "execution_count": 6,
   "id": "21093a27",
   "metadata": {},
   "outputs": [],
   "source": [
    "pd.options.display.float_format ='{:,.3f}'.format\n",
    "pd.options.display.max_rows = 400"
   ]
  },
  {
   "cell_type": "code",
   "execution_count": 7,
   "id": "83d225ed",
   "metadata": {},
   "outputs": [],
   "source": [
    "metric_get = smart_q.groupby('metric')['Company'].nunique().reset_index().sort_values('Company', ascending=False).reset_index()[:30].metric.to_list()"
   ]
  },
  {
   "cell_type": "code",
   "execution_count": 8,
   "id": "a08a5741",
   "metadata": {},
   "outputs": [],
   "source": [
    "df=smart_q[smart_q['metric'].isin(metric_get)]"
   ]
  },
  {
   "cell_type": "code",
   "execution_count": null,
   "id": "a9728bb0",
   "metadata": {},
   "outputs": [],
   "source": [
    "df.set_index(['metric', 'Company'])"
   ]
  },
  {
   "cell_type": "code",
   "execution_count": null,
   "id": "d7b2711b",
   "metadata": {},
   "outputs": [],
   "source": [
    "smart_q[smart_q['metric'].isin(metric_get)].shape"
   ]
  },
  {
   "cell_type": "code",
   "execution_count": null,
   "id": "c54332cf",
   "metadata": {},
   "outputs": [],
   "source": [
    "smart_q[smart_q['metric'].isin(metric_get)].isnull().sum().reset_index().sort_values(0)"
   ]
  },
  {
   "cell_type": "code",
   "execution_count": null,
   "id": "0de5df88",
   "metadata": {},
   "outputs": [],
   "source": [
    "f=['2016Q4', '2017Q1', '2017Q4', '2018Q1', '2018Q2', '2018Q3',\n",
    "       '2018Q4', '2019Q1', '2019Q2', '2019Q3', '2019Q4', '2020Q1', '2020Q2',\n",
    "       '2020Q3', '2020Q4', '2021Q1', '2021Q2', '2021Q3', '2021Q4', '2022Q2',\n",
    "       '2022Q4', '2023Q2', '2023Q4',  '2017Q2', '2017Q3',\n",
    "       '2022Q1', '2022Q3', '2023Q1', '2023Q3', '2024Q1', '2016Q2', '2009Q4',\n",
    "       '2010Q4', '2011Q4', '2012Q4', '2013Q4', '2014Q4', '2015Q4', '2016Q3',\n",
    "       '2006Q4', '2007Q4', '2008Q4', '2015Q1', '2015Q2', '2015Q3', '2016Q1',\n",
    "       '2014Q1', '2014Q2', '2014Q3', '2012Q1', '2012Q2', '2012Q3', '2013Q1',\n",
    "       '2013Q2', '2013Q3', '2011Q1', '2011Q2', '2011Q3', '2000Q4', '2001Q4',\n",
    "       '2002Q4', '2003Q4', '2004Q4', '2005Q4']"
   ]
  },
  {
   "cell_type": "code",
   "execution_count": null,
   "id": "67ed396f",
   "metadata": {},
   "outputs": [],
   "source": [
    "df.pivot(index=f, columns='metric', values='Company')"
   ]
  },
  {
   "cell_type": "code",
   "execution_count": null,
   "id": "a38d3f73",
   "metadata": {},
   "outputs": [],
   "source": [
    "df[(df['Company']=='ENPG' )& (df['metric']=='Выручка, млрд руб')].T.reset_index()"
   ]
  },
  {
   "cell_type": "code",
   "execution_count": 10,
   "id": "ee4b73a7",
   "metadata": {},
   "outputs": [],
   "source": [
    "res=pd.DataFrame()\n",
    "for comp in df.Company.unique():\n",
    "    df_=df[df['Company']==comp ]\n",
    "    df_.set_index('metric',inplace=True)\n",
    "    df_ = df_.T\n",
    "    df_['Company']=comp\n",
    "    res = pd.concat([res, df_])"
   ]
  },
  {
   "cell_type": "code",
   "execution_count": 12,
   "id": "68a646d4",
   "metadata": {},
   "outputs": [],
   "source": [
    "res=res.reset_index()"
   ]
  },
  {
   "cell_type": "code",
   "execution_count": 13,
   "id": "a90d8243",
   "metadata": {},
   "outputs": [],
   "source": [
    "res['year'] = res['index'].apply(lambda x: x[:4])"
   ]
  },
  {
   "cell_type": "code",
   "execution_count": 14,
   "id": "ef316cae",
   "metadata": {},
   "outputs": [],
   "source": [
    "res['quartal'] = res['index'].apply(lambda x: x[-2:])"
   ]
  },
  {
   "cell_type": "code",
   "execution_count": null,
   "id": "5a63a962",
   "metadata": {},
   "outputs": [],
   "source": [
    "res.to_csv('smart_transform.csv')"
   ]
  },
  {
   "cell_type": "code",
   "execution_count": 15,
   "id": "9c633820",
   "metadata": {},
   "outputs": [],
   "source": [
    "res=res[~res['index'].isin(['LTM','Company'])]"
   ]
  },
  {
   "cell_type": "code",
   "execution_count": 16,
   "id": "8ca1c846",
   "metadata": {},
   "outputs": [],
   "source": [
    "res=res[res['Дата отчета'].notnull()]"
   ]
  },
  {
   "cell_type": "code",
   "execution_count": 19,
   "id": "31e59605",
   "metadata": {},
   "outputs": [
    {
     "data": {
      "text/html": [
       "<div>\n",
       "<style scoped>\n",
       "    .dataframe tbody tr th:only-of-type {\n",
       "        vertical-align: middle;\n",
       "    }\n",
       "\n",
       "    .dataframe tbody tr th {\n",
       "        vertical-align: top;\n",
       "    }\n",
       "\n",
       "    .dataframe thead th {\n",
       "        text-align: right;\n",
       "    }\n",
       "</style>\n",
       "<table border=\"1\" class=\"dataframe\">\n",
       "  <thead>\n",
       "    <tr style=\"text-align: right;\">\n",
       "      <th>metric</th>\n",
       "      <th>Дата отчета</th>\n",
       "      <th>date</th>\n",
       "    </tr>\n",
       "  </thead>\n",
       "  <tbody>\n",
       "    <tr>\n",
       "      <th>0</th>\n",
       "      <td>26.06.2018</td>\n",
       "      <td>2018-06-26</td>\n",
       "    </tr>\n",
       "    <tr>\n",
       "      <th>1</th>\n",
       "      <td>18.05.2018</td>\n",
       "      <td>2018-05-18</td>\n",
       "    </tr>\n",
       "    <tr>\n",
       "      <th>2</th>\n",
       "      <td>26.06.2018</td>\n",
       "      <td>2018-06-26</td>\n",
       "    </tr>\n",
       "    <tr>\n",
       "      <th>3</th>\n",
       "      <td>18.05.2018</td>\n",
       "      <td>2018-05-18</td>\n",
       "    </tr>\n",
       "    <tr>\n",
       "      <th>4</th>\n",
       "      <td>15.08.2018</td>\n",
       "      <td>2018-08-15</td>\n",
       "    </tr>\n",
       "    <tr>\n",
       "      <th>...</th>\n",
       "      <td>...</td>\n",
       "      <td>...</td>\n",
       "    </tr>\n",
       "    <tr>\n",
       "      <th>17048</th>\n",
       "      <td>11.05.2023</td>\n",
       "      <td>2023-05-11</td>\n",
       "    </tr>\n",
       "    <tr>\n",
       "      <th>17049</th>\n",
       "      <td>18.09.2023</td>\n",
       "      <td>2023-09-18</td>\n",
       "    </tr>\n",
       "    <tr>\n",
       "      <th>17065</th>\n",
       "      <td>04.07.2018</td>\n",
       "      <td>2018-07-04</td>\n",
       "    </tr>\n",
       "    <tr>\n",
       "      <th>17066</th>\n",
       "      <td>04.07.2018</td>\n",
       "      <td>2018-07-04</td>\n",
       "    </tr>\n",
       "    <tr>\n",
       "      <th>17067</th>\n",
       "      <td>04.07.2018</td>\n",
       "      <td>2018-07-04</td>\n",
       "    </tr>\n",
       "  </tbody>\n",
       "</table>\n",
       "<p>4189 rows × 2 columns</p>\n",
       "</div>"
      ],
      "text/plain": [
       "metric Дата отчета       date\n",
       "0       26.06.2018 2018-06-26\n",
       "1       18.05.2018 2018-05-18\n",
       "2       26.06.2018 2018-06-26\n",
       "3       18.05.2018 2018-05-18\n",
       "4       15.08.2018 2018-08-15\n",
       "...            ...        ...\n",
       "17048   11.05.2023 2023-05-11\n",
       "17049   18.09.2023 2023-09-18\n",
       "17065   04.07.2018 2018-07-04\n",
       "17066   04.07.2018 2018-07-04\n",
       "17067   04.07.2018 2018-07-04\n",
       "\n",
       "[4189 rows x 2 columns]"
      ]
     },
     "execution_count": 19,
     "metadata": {},
     "output_type": "execute_result"
    }
   ],
   "source": [
    "res[['Дата отчета','date']]"
   ]
  },
  {
   "cell_type": "code",
   "execution_count": null,
   "id": "53c4d30d",
   "metadata": {},
   "outputs": [],
   "source": [
    "res.dtypes"
   ]
  },
  {
   "cell_type": "code",
   "execution_count": null,
   "id": "0678cdb9",
   "metadata": {},
   "outputs": [],
   "source": [
    "res.columns"
   ]
  },
  {
   "cell_type": "code",
   "execution_count": 21,
   "id": "772a4746",
   "metadata": {},
   "outputs": [],
   "source": [
    "for col in ['Выручка, млрд руб',\n",
    "       'Чистая прибыль, млрд руб', 'CAPEX, млрд руб', 'Див доход, ао, %',\n",
    "       'Дивиденды/прибыль, %', 'Активы, млрд руб', 'Чистые активы, млрд руб',\n",
    "       'Долг, млрд руб', 'Наличность, млрд руб', 'Чистый долг, млрд руб',\n",
    "       'Цена акции ао, руб', 'Число акций ао, млн', 'Капитализация, млрд руб',\n",
    "       'EV, млрд руб', 'Баланс стоимость, млрд руб', 'EPS, руб',\n",
    "       'FCF/акцию, руб', 'BV/акцию, руб', 'Рентаб EBITDA, %',\n",
    "       'Чистая рентаб, %', 'Доходность FCF, %', 'ROE, %', 'ROA, %', 'P/E',\n",
    "       'P/S', 'P/BV', 'R&D/CAPEX, %', 'CAPEX/Выручка, %']:\n",
    "    res[col] = res[col].apply(lambda x: str(x).replace(' ', '').replace('%', ''))\n",
    "    res[col] = res[col].astype(float)"
   ]
  },
  {
   "cell_type": "code",
   "execution_count": 20,
   "id": "07ed823d",
   "metadata": {},
   "outputs": [],
   "source": [
    "# res['date'] = pd.to_datetime(res['Дата отчета'], format=\"%d.%m.%Y\")\n",
    "res['Дата отчета'] = pd.to_datetime(res['Дата отчета'], format=\"%d.%m.%Y\")"
   ]
  },
  {
   "cell_type": "code",
   "execution_count": 29,
   "id": "b17449db",
   "metadata": {},
   "outputs": [
    {
     "data": {
      "text/plain": [
       "Timestamp('2024-05-24 00:00:00')"
      ]
     },
     "execution_count": 29,
     "metadata": {},
     "output_type": "execute_result"
    }
   ],
   "source": [
    "res['Дата отчета'].max()"
   ]
  },
  {
   "cell_type": "code",
   "execution_count": 33,
   "id": "69489e3e",
   "metadata": {},
   "outputs": [
    {
     "data": {
      "text/html": [
       "<div>\n",
       "<style scoped>\n",
       "    .dataframe tbody tr th:only-of-type {\n",
       "        vertical-align: middle;\n",
       "    }\n",
       "\n",
       "    .dataframe tbody tr th {\n",
       "        vertical-align: top;\n",
       "    }\n",
       "\n",
       "    .dataframe thead th {\n",
       "        text-align: right;\n",
       "    }\n",
       "</style>\n",
       "<table border=\"1\" class=\"dataframe\">\n",
       "  <thead>\n",
       "    <tr style=\"text-align: right;\">\n",
       "      <th>metric</th>\n",
       "      <th>index</th>\n",
       "      <th>Дата отчета</th>\n",
       "      <th>Валюта отчета</th>\n",
       "      <th>Выручка, млрд руб</th>\n",
       "      <th>Чистая прибыль, млрд руб</th>\n",
       "      <th>CAPEX, млрд руб</th>\n",
       "      <th>Див доход, ао, %</th>\n",
       "      <th>Дивиденды/прибыль, %</th>\n",
       "      <th>Активы, млрд руб</th>\n",
       "      <th>Чистые активы, млрд руб</th>\n",
       "      <th>...</th>\n",
       "      <th>ROA, %</th>\n",
       "      <th>P/E</th>\n",
       "      <th>P/S</th>\n",
       "      <th>P/BV</th>\n",
       "      <th>R&amp;D/CAPEX, %</th>\n",
       "      <th>CAPEX/Выручка, %</th>\n",
       "      <th>Company</th>\n",
       "      <th>year</th>\n",
       "      <th>quartal</th>\n",
       "      <th>date</th>\n",
       "    </tr>\n",
       "  </thead>\n",
       "  <tbody>\n",
       "    <tr>\n",
       "      <th>15541</th>\n",
       "      <td>2024Q1</td>\n",
       "      <td>2024-05-24</td>\n",
       "      <td>RUB</td>\n",
       "      <td>3.150</td>\n",
       "      <td>0.740</td>\n",
       "      <td>NaN</td>\n",
       "      <td>0.000</td>\n",
       "      <td>0.000</td>\n",
       "      <td>11.300</td>\n",
       "      <td>8.000</td>\n",
       "      <td>...</td>\n",
       "      <td>19.600</td>\n",
       "      <td>27.200</td>\n",
       "      <td>4.900</td>\n",
       "      <td>10.800</td>\n",
       "      <td>NaN</td>\n",
       "      <td>0.000</td>\n",
       "      <td>CIAN</td>\n",
       "      <td>2024</td>\n",
       "      <td>Q1</td>\n",
       "      <td>2024-05-24</td>\n",
       "    </tr>\n",
       "    <tr>\n",
       "      <th>4783</th>\n",
       "      <td>2024Q1</td>\n",
       "      <td>2024-05-24</td>\n",
       "      <td>RUB</td>\n",
       "      <td>NaN</td>\n",
       "      <td>4.400</td>\n",
       "      <td>NaN</td>\n",
       "      <td>0.000</td>\n",
       "      <td>0.000</td>\n",
       "      <td>274.100</td>\n",
       "      <td>48.900</td>\n",
       "      <td>...</td>\n",
       "      <td>1.600</td>\n",
       "      <td>26.000</td>\n",
       "      <td>NaN</td>\n",
       "      <td>2.340</td>\n",
       "      <td>NaN</td>\n",
       "      <td>NaN</td>\n",
       "      <td>LEAS</td>\n",
       "      <td>2024</td>\n",
       "      <td>Q1</td>\n",
       "      <td>2024-05-24</td>\n",
       "    </tr>\n",
       "    <tr>\n",
       "      <th>11581</th>\n",
       "      <td>2024Q1</td>\n",
       "      <td>2024-05-23</td>\n",
       "      <td>RUB</td>\n",
       "      <td>35.200</td>\n",
       "      <td>2.470</td>\n",
       "      <td>4.370</td>\n",
       "      <td>0.000</td>\n",
       "      <td>0.000</td>\n",
       "      <td>151.100</td>\n",
       "      <td>62.900</td>\n",
       "      <td>...</td>\n",
       "      <td>4.400</td>\n",
       "      <td>3.730</td>\n",
       "      <td>0.190</td>\n",
       "      <td>0.400</td>\n",
       "      <td>0.000</td>\n",
       "      <td>12.000</td>\n",
       "      <td>MRKC</td>\n",
       "      <td>2024</td>\n",
       "      <td>Q1</td>\n",
       "      <td>2024-05-23</td>\n",
       "    </tr>\n",
       "    <tr>\n",
       "      <th>14749</th>\n",
       "      <td>2024Q1</td>\n",
       "      <td>2024-05-22</td>\n",
       "      <td>RUB</td>\n",
       "      <td>NaN</td>\n",
       "      <td>22.200</td>\n",
       "      <td>NaN</td>\n",
       "      <td>0.000</td>\n",
       "      <td>0.000</td>\n",
       "      <td>NaN</td>\n",
       "      <td>NaN</td>\n",
       "      <td>...</td>\n",
       "      <td>NaN</td>\n",
       "      <td>7.250</td>\n",
       "      <td>NaN</td>\n",
       "      <td>NaN</td>\n",
       "      <td>NaN</td>\n",
       "      <td>NaN</td>\n",
       "      <td>TCSG</td>\n",
       "      <td>2024</td>\n",
       "      <td>Q1</td>\n",
       "      <td>2024-05-22</td>\n",
       "    </tr>\n",
       "    <tr>\n",
       "      <th>3850</th>\n",
       "      <td>2023Q4</td>\n",
       "      <td>2024-05-17</td>\n",
       "      <td>RUB</td>\n",
       "      <td>NaN</td>\n",
       "      <td>NaN</td>\n",
       "      <td>NaN</td>\n",
       "      <td>NaN</td>\n",
       "      <td>NaN</td>\n",
       "      <td>92.600</td>\n",
       "      <td>22.100</td>\n",
       "      <td>...</td>\n",
       "      <td>0.000</td>\n",
       "      <td>NaN</td>\n",
       "      <td>NaN</td>\n",
       "      <td>0.000</td>\n",
       "      <td>NaN</td>\n",
       "      <td>NaN</td>\n",
       "      <td>ELMT</td>\n",
       "      <td>2023</td>\n",
       "      <td>Q4</td>\n",
       "      <td>2024-05-17</td>\n",
       "    </tr>\n",
       "    <tr>\n",
       "      <th>...</th>\n",
       "      <td>...</td>\n",
       "      <td>...</td>\n",
       "      <td>...</td>\n",
       "      <td>...</td>\n",
       "      <td>...</td>\n",
       "      <td>...</td>\n",
       "      <td>...</td>\n",
       "      <td>...</td>\n",
       "      <td>...</td>\n",
       "      <td>...</td>\n",
       "      <td>...</td>\n",
       "      <td>...</td>\n",
       "      <td>...</td>\n",
       "      <td>...</td>\n",
       "      <td>...</td>\n",
       "      <td>...</td>\n",
       "      <td>...</td>\n",
       "      <td>...</td>\n",
       "      <td>...</td>\n",
       "      <td>...</td>\n",
       "      <td>...</td>\n",
       "    </tr>\n",
       "    <tr>\n",
       "      <th>15426</th>\n",
       "      <td>2014Q1</td>\n",
       "      <td>2014-04-17</td>\n",
       "      <td>RUB</td>\n",
       "      <td>29.400</td>\n",
       "      <td>NaN</td>\n",
       "      <td>3.810</td>\n",
       "      <td>NaN</td>\n",
       "      <td>NaN</td>\n",
       "      <td>137.400</td>\n",
       "      <td>58.400</td>\n",
       "      <td>...</td>\n",
       "      <td>0.000</td>\n",
       "      <td>NaN</td>\n",
       "      <td>0.000</td>\n",
       "      <td>0.000</td>\n",
       "      <td>0.000</td>\n",
       "      <td>13.000</td>\n",
       "      <td>PHOR</td>\n",
       "      <td>2014</td>\n",
       "      <td>Q1</td>\n",
       "      <td>2014-04-17</td>\n",
       "    </tr>\n",
       "    <tr>\n",
       "      <th>11981</th>\n",
       "      <td>2011Q4</td>\n",
       "      <td>2012-07-18</td>\n",
       "      <td>RUB</td>\n",
       "      <td>NaN</td>\n",
       "      <td>NaN</td>\n",
       "      <td>NaN</td>\n",
       "      <td>0.000</td>\n",
       "      <td>NaN</td>\n",
       "      <td>812.000</td>\n",
       "      <td>498.000</td>\n",
       "      <td>...</td>\n",
       "      <td>0.000</td>\n",
       "      <td>NaN</td>\n",
       "      <td>NaN</td>\n",
       "      <td>0.560</td>\n",
       "      <td>NaN</td>\n",
       "      <td>NaN</td>\n",
       "      <td>HYDR</td>\n",
       "      <td>2011</td>\n",
       "      <td>Q4</td>\n",
       "      <td>2012-07-18</td>\n",
       "    </tr>\n",
       "    <tr>\n",
       "      <th>11989</th>\n",
       "      <td>2008Q4</td>\n",
       "      <td>2012-07-18</td>\n",
       "      <td>RUB</td>\n",
       "      <td>NaN</td>\n",
       "      <td>NaN</td>\n",
       "      <td>NaN</td>\n",
       "      <td>NaN</td>\n",
       "      <td>NaN</td>\n",
       "      <td>426.000</td>\n",
       "      <td>342.000</td>\n",
       "      <td>...</td>\n",
       "      <td>0.000</td>\n",
       "      <td>NaN</td>\n",
       "      <td>NaN</td>\n",
       "      <td>0.000</td>\n",
       "      <td>NaN</td>\n",
       "      <td>NaN</td>\n",
       "      <td>HYDR</td>\n",
       "      <td>2008</td>\n",
       "      <td>Q4</td>\n",
       "      <td>2012-07-18</td>\n",
       "    </tr>\n",
       "    <tr>\n",
       "      <th>11979</th>\n",
       "      <td>2009Q4</td>\n",
       "      <td>2012-07-18</td>\n",
       "      <td>RUB</td>\n",
       "      <td>NaN</td>\n",
       "      <td>NaN</td>\n",
       "      <td>NaN</td>\n",
       "      <td>0.000</td>\n",
       "      <td>NaN</td>\n",
       "      <td>483.000</td>\n",
       "      <td>401.000</td>\n",
       "      <td>...</td>\n",
       "      <td>0.000</td>\n",
       "      <td>NaN</td>\n",
       "      <td>NaN</td>\n",
       "      <td>0.000</td>\n",
       "      <td>NaN</td>\n",
       "      <td>NaN</td>\n",
       "      <td>HYDR</td>\n",
       "      <td>2009</td>\n",
       "      <td>Q4</td>\n",
       "      <td>2012-07-18</td>\n",
       "    </tr>\n",
       "    <tr>\n",
       "      <th>11980</th>\n",
       "      <td>2010Q4</td>\n",
       "      <td>2012-07-18</td>\n",
       "      <td>RUB</td>\n",
       "      <td>NaN</td>\n",
       "      <td>NaN</td>\n",
       "      <td>NaN</td>\n",
       "      <td>0.000</td>\n",
       "      <td>NaN</td>\n",
       "      <td>745.000</td>\n",
       "      <td>510.000</td>\n",
       "      <td>...</td>\n",
       "      <td>0.000</td>\n",
       "      <td>NaN</td>\n",
       "      <td>NaN</td>\n",
       "      <td>0.930</td>\n",
       "      <td>NaN</td>\n",
       "      <td>NaN</td>\n",
       "      <td>HYDR</td>\n",
       "      <td>2010</td>\n",
       "      <td>Q4</td>\n",
       "      <td>2012-07-18</td>\n",
       "    </tr>\n",
       "  </tbody>\n",
       "</table>\n",
       "<p>4189 rows × 35 columns</p>\n",
       "</div>"
      ],
      "text/plain": [
       "metric   index Дата отчета Валюта отчета  Выручка, млрд руб  \\\n",
       "15541   2024Q1  2024-05-24           RUB              3.150   \n",
       "4783    2024Q1  2024-05-24           RUB                NaN   \n",
       "11581   2024Q1  2024-05-23           RUB             35.200   \n",
       "14749   2024Q1  2024-05-22           RUB                NaN   \n",
       "3850    2023Q4  2024-05-17           RUB                NaN   \n",
       "...        ...         ...           ...                ...   \n",
       "15426   2014Q1  2014-04-17           RUB             29.400   \n",
       "11981   2011Q4  2012-07-18           RUB                NaN   \n",
       "11989   2008Q4  2012-07-18           RUB                NaN   \n",
       "11979   2009Q4  2012-07-18           RUB                NaN   \n",
       "11980   2010Q4  2012-07-18           RUB                NaN   \n",
       "\n",
       "metric  Чистая прибыль, млрд руб  CAPEX, млрд руб  Див доход, ао, %  \\\n",
       "15541                      0.740              NaN             0.000   \n",
       "4783                       4.400              NaN             0.000   \n",
       "11581                      2.470            4.370             0.000   \n",
       "14749                     22.200              NaN             0.000   \n",
       "3850                         NaN              NaN               NaN   \n",
       "...                          ...              ...               ...   \n",
       "15426                        NaN            3.810               NaN   \n",
       "11981                        NaN              NaN             0.000   \n",
       "11989                        NaN              NaN               NaN   \n",
       "11979                        NaN              NaN             0.000   \n",
       "11980                        NaN              NaN             0.000   \n",
       "\n",
       "metric  Дивиденды/прибыль, %  Активы, млрд руб  Чистые активы, млрд руб  ...  \\\n",
       "15541                  0.000            11.300                    8.000  ...   \n",
       "4783                   0.000           274.100                   48.900  ...   \n",
       "11581                  0.000           151.100                   62.900  ...   \n",
       "14749                  0.000               NaN                      NaN  ...   \n",
       "3850                     NaN            92.600                   22.100  ...   \n",
       "...                      ...               ...                      ...  ...   \n",
       "15426                    NaN           137.400                   58.400  ...   \n",
       "11981                    NaN           812.000                  498.000  ...   \n",
       "11989                    NaN           426.000                  342.000  ...   \n",
       "11979                    NaN           483.000                  401.000  ...   \n",
       "11980                    NaN           745.000                  510.000  ...   \n",
       "\n",
       "metric  ROA, %    P/E   P/S   P/BV  R&D/CAPEX, %  CAPEX/Выручка, %  Company  \\\n",
       "15541   19.600 27.200 4.900 10.800           NaN             0.000     CIAN   \n",
       "4783     1.600 26.000   NaN  2.340           NaN               NaN     LEAS   \n",
       "11581    4.400  3.730 0.190  0.400         0.000            12.000     MRKC   \n",
       "14749      NaN  7.250   NaN    NaN           NaN               NaN     TCSG   \n",
       "3850     0.000    NaN   NaN  0.000           NaN               NaN     ELMT   \n",
       "...        ...    ...   ...    ...           ...               ...      ...   \n",
       "15426    0.000    NaN 0.000  0.000         0.000            13.000     PHOR   \n",
       "11981    0.000    NaN   NaN  0.560           NaN               NaN     HYDR   \n",
       "11989    0.000    NaN   NaN  0.000           NaN               NaN     HYDR   \n",
       "11979    0.000    NaN   NaN  0.000           NaN               NaN     HYDR   \n",
       "11980    0.000    NaN   NaN  0.930           NaN               NaN     HYDR   \n",
       "\n",
       "metric  year  quartal       date  \n",
       "15541   2024       Q1 2024-05-24  \n",
       "4783    2024       Q1 2024-05-24  \n",
       "11581   2024       Q1 2024-05-23  \n",
       "14749   2024       Q1 2024-05-22  \n",
       "3850    2023       Q4 2024-05-17  \n",
       "...      ...      ...        ...  \n",
       "15426   2014       Q1 2014-04-17  \n",
       "11981   2011       Q4 2012-07-18  \n",
       "11989   2008       Q4 2012-07-18  \n",
       "11979   2009       Q4 2012-07-18  \n",
       "11980   2010       Q4 2012-07-18  \n",
       "\n",
       "[4189 rows x 35 columns]"
      ]
     },
     "execution_count": 33,
     "metadata": {},
     "output_type": "execute_result"
    }
   ],
   "source": [
    "res.sort_values(['Дата отчета'], ascending=False)"
   ]
  },
  {
   "cell_type": "code",
   "execution_count": null,
   "id": "49c94f06",
   "metadata": {},
   "outputs": [],
   "source": [
    "res[['index','Дата отчета']].sort_values('Дата отчета', ascending=False)"
   ]
  },
  {
   "cell_type": "code",
   "execution_count": 22,
   "id": "b2285bea",
   "metadata": {},
   "outputs": [
    {
     "name": "stdout",
     "output_type": "stream",
     "text": [
      "2024-06-10 18:13:01.901418\n"
     ]
    },
    {
     "name": "stderr",
     "output_type": "stream",
     "text": [
      "/home/psm/.pyenv/versions/3.9.13/envs/jupyterhub/lib/python3.9/site-packages/pandas/io/sql.py:761: UserWarning: pandas only support SQLAlchemy connectable(engine/connection) ordatabase string URI or sqlite3 DBAPI2 connectionother DBAPI2 objects are not tested, please consider using SQLAlchemy\n",
      "  warnings.warn(\n"
     ]
    },
    {
     "name": "stdout",
     "output_type": "stream",
     "text": [
      "2024-06-10 18:13:02.865898\n",
      "done\n"
     ]
    }
   ],
   "source": [
    "print(datetime.datetime.now())\n",
    "\n",
    "pvo = pd.read_sql(\"\"\"select * from PercentageVolumeOscillatorRU \"\"\", con=clickhouse_driver.connect(**cfg))\n",
    "\n",
    "print(datetime.datetime.now())\n",
    "print('done')"
   ]
  },
  {
   "cell_type": "code",
   "execution_count": 23,
   "id": "cad1d66e",
   "metadata": {},
   "outputs": [],
   "source": [
    "pvo['date'] = pd.to_datetime(pvo['date'])"
   ]
  },
  {
   "cell_type": "code",
   "execution_count": 24,
   "id": "a5a069db",
   "metadata": {},
   "outputs": [
    {
     "name": "stdout",
     "output_type": "stream",
     "text": [
      "2024-06-10 18:13:03.071076\n"
     ]
    },
    {
     "name": "stderr",
     "output_type": "stream",
     "text": [
      "/home/psm/.pyenv/versions/3.9.13/envs/jupyterhub/lib/python3.9/site-packages/pandas/io/sql.py:761: UserWarning: pandas only support SQLAlchemy connectable(engine/connection) ordatabase string URI or sqlite3 DBAPI2 connectionother DBAPI2 objects are not tested, please consider using SQLAlchemy\n",
      "  warnings.warn(\n"
     ]
    },
    {
     "name": "stdout",
     "output_type": "stream",
     "text": [
      "2024-06-10 18:13:04.496864\n",
      "done\n"
     ]
    }
   ],
   "source": [
    "print(datetime.datetime.now())\n",
    "\n",
    "idx = pd.read_sql(\"\"\"select * from DirectionalMovementIndexMonthRU \"\"\", con=clickhouse_driver.connect(**cfg))\n",
    "\n",
    "print(datetime.datetime.now())\n",
    "print('done')"
   ]
  },
  {
   "cell_type": "code",
   "execution_count": 25,
   "id": "f76e9d37",
   "metadata": {},
   "outputs": [],
   "source": [
    "idx['date'] = pd.to_datetime(idx['date'])"
   ]
  },
  {
   "cell_type": "code",
   "execution_count": 26,
   "id": "3c6330bb",
   "metadata": {},
   "outputs": [
    {
     "name": "stderr",
     "output_type": "stream",
     "text": [
      "/home/psm/.pyenv/versions/3.9.13/envs/jupyterhub/lib/python3.9/site-packages/pandas/io/sql.py:761: UserWarning: pandas only support SQLAlchemy connectable(engine/connection) ordatabase string URI or sqlite3 DBAPI2 connectionother DBAPI2 objects are not tested, please consider using SQLAlchemy\n",
      "  warnings.warn(\n"
     ]
    }
   ],
   "source": [
    "company_profiles = pd.read_sql(\"\"\"select * from CompanyProfiles\"\"\", con=clickhouse_driver.connect(**cfg))\n",
    "company_profiles['ipoDate']=pd.to_datetime(company_profiles['ipoDate']).dt.date\n",
    "company_profiles['days_ipo'] = company_profiles.loc[company_profiles['ipoDate'].notnull(), 'ipoDate'].apply(lambda x: (datetime.date.today()-x).days)"
   ]
  },
  {
   "cell_type": "code",
   "execution_count": null,
   "id": "a888e316",
   "metadata": {},
   "outputs": [],
   "source": [
    "', '.join(list(map(lambda x: \"'\"+x+\"'\", df.Company.unique())))"
   ]
  },
  {
   "cell_type": "code",
   "execution_count": 27,
   "id": "109a8315",
   "metadata": {},
   "outputs": [
    {
     "name": "stdout",
     "output_type": "stream",
     "text": [
      "2024-06-10 18:13:07.523705\n"
     ]
    },
    {
     "name": "stderr",
     "output_type": "stream",
     "text": [
      "/home/psm/.pyenv/versions/3.9.13/envs/jupyterhub/lib/python3.9/site-packages/pandas/io/sql.py:761: UserWarning: pandas only support SQLAlchemy connectable(engine/connection) ordatabase string URI or sqlite3 DBAPI2 connectionother DBAPI2 objects are not tested, please consider using SQLAlchemy\n",
      "  warnings.warn(\n"
     ]
    },
    {
     "name": "stdout",
     "output_type": "stream",
     "text": [
      "2024-06-10 18:13:20.371521\n",
      "done\n"
     ]
    }
   ],
   "source": [
    "print(datetime.datetime.now())\n",
    "\n",
    "price_change = pd.read_sql(f\"\"\"select * from CandleDynamics where symbol in ({', '.join(list(map(lambda x: \"'\"+x+\"'\", df.Company.unique())))}) \"\"\", con=clickhouse_driver.connect(**cfg))\n",
    "\n",
    "#StockPriceDynamics\n",
    "\n",
    "print(datetime.datetime.now())\n",
    "print('done')"
   ]
  },
  {
   "cell_type": "code",
   "execution_count": 28,
   "id": "23d41135",
   "metadata": {},
   "outputs": [],
   "source": [
    "price_change['date'] = pd.to_datetime(price_change['date'])"
   ]
  },
  {
   "cell_type": "code",
   "execution_count": null,
   "id": "2187032b",
   "metadata": {},
   "outputs": [],
   "source": [
    "price_change.date.max()"
   ]
  },
  {
   "cell_type": "code",
   "execution_count": 36,
   "id": "1975d524",
   "metadata": {},
   "outputs": [],
   "source": [
    "res.rename(columns={'Company':'symbol'}, inplace=True)"
   ]
  },
  {
   "cell_type": "code",
   "execution_count": 34,
   "id": "83dde923",
   "metadata": {},
   "outputs": [],
   "source": [
    "res['next_fillingDate'] = res['Дата отчета'] + pd.Timedelta(days=1)"
   ]
  },
  {
   "cell_type": "code",
   "execution_count": 37,
   "id": "84062e66",
   "metadata": {},
   "outputs": [],
   "source": [
    "df_test1_ = res \\\n",
    ".merge(company_profiles[['symbol', 'industry', 'sector', 'country', 'city', 'state', 'currency', 'days_ipo']], \n",
    "           how='left', on='symbol')\\\n",
    ".merge(price_change[['symbol', 'date', 'close','open',\n",
    "                         'close_D_7', 'close_D_14', 'close_M_1', 'close_M_2' ,'close_M_3', 'close_M_6', 'close_Y_1',  \n",
    "                         'close_D_7_pl', 'close_D_14_pl','close_M_2_pl', 'close_M_1_pl', 'close_M_3_pl']], how='left', \n",
    "           left_on=['symbol', 'next_fillingDate'], right_on=['symbol', 'date']) #\\\n",
    "# .merge(idx, how='left', left_on=['symbol', 'next_fillingDate'], right_on=['symbol', 'date'])\\\n",
    "# .merge(pvo, how='left', left_on=['symbol', 'next_fillingDate'], right_on=['symbol', 'date'])\n",
    "\n"
   ]
  },
  {
   "cell_type": "code",
   "execution_count": 38,
   "id": "37fd9837",
   "metadata": {},
   "outputs": [],
   "source": [
    "df_test1_['close_D_7_change'] = (df_test1_['close'] - df_test1_['close_D_7'])/df_test1_['close_D_7'] *100\n",
    "df_test1_['close_D_14_change'] = (df_test1_['close'] - df_test1_['close_D_14'])/df_test1_['close_D_14'] *100\n",
    "df_test1_['close_M_1_change'] = (df_test1_['close'] - df_test1_['close_M_1'])/df_test1_['close_M_1'] *100\n",
    "df_test1_['close_M_2_change'] = (df_test1_['close'] - df_test1_['close_M_2'])/df_test1_['close_M_2'] *100\n",
    "df_test1_['close_M_3_change'] = (df_test1_['close'] - df_test1_['close_M_3'])/df_test1_['close_M_3'] *100\n",
    "df_test1_['close_M_6_change'] = (df_test1_['close'] - df_test1_['close_M_6'])/df_test1_['close_M_6'] *100\n",
    "df_test1_['close_Y_1_change'] = (df_test1_['close'] - df_test1_['close_Y_1'])/df_test1_['close_Y_1'] *100\n"
   ]
  },
  {
   "cell_type": "code",
   "execution_count": 39,
   "id": "894c6433",
   "metadata": {},
   "outputs": [],
   "source": [
    "df = df_test1_.copy()"
   ]
  },
  {
   "cell_type": "code",
   "execution_count": 40,
   "id": "69193c35",
   "metadata": {},
   "outputs": [],
   "source": [
    "df.loc[df['industry']=='', 'industry'] = None\n",
    "df.loc[df['country']=='', 'country'] = None\n",
    "df.loc[df['city']=='', 'city'] = None\n",
    "df.loc[df['state']=='', 'state'] = None\n",
    "df.loc[df['currency'].isin(['','-7','0.1','None']), 'currency'] = None\n",
    "df.loc[df['currency']=='GBp', 'currency'] = 'GBP'\n",
    "df.loc[(df['sector']=='')|(df['sector']=='N/A'), 'sector'] = None"
   ]
  },
  {
   "cell_type": "code",
   "execution_count": 41,
   "id": "3922df36",
   "metadata": {},
   "outputs": [],
   "source": [
    "df['month'] = pd.to_datetime(df.next_fillingDate).dt.month #df.date\n",
    "df.loc[df['quartal']=='', 'quartal'] = None\n",
    "df.loc[df['quartal']=='Q3\\n', 'quartal'] = 'Q3'\n",
    "periods={'Q1':1,'Q2':2,'Q3':3,'Q4':4}\n",
    "df['period_'] = df['quartal'].apply(lambda x: periods.get(x, x))\n",
    "df['cos_period'] = np.cos(2 * math.pi * df['period_'] / 4.)\n",
    "df['sin_period'] = np.sin(2 * math.pi * df['period_'] / 4.)\n",
    "df['cos_month'] = np.cos(2 * math.pi * df['month'] / 12.)\n",
    "df['sin_month'] = np.sin(2 * math.pi * df['month'] / 12.)\n"
   ]
  },
  {
   "cell_type": "code",
   "execution_count": null,
   "id": "d09e58ee",
   "metadata": {},
   "outputs": [],
   "source": [
    "df.columns"
   ]
  },
  {
   "cell_type": "code",
   "execution_count": 74,
   "id": "1d527224",
   "metadata": {},
   "outputs": [],
   "source": [
    "df2= df.copy().drop(columns=['index','Дата отчета','Валюта отчета']) #df1.copy() #\n",
    "# df2['date'] = pd.to_datetime(df2['date'])\n",
    "df2['d_24'] = (df2['next_fillingDate']>=datetime.datetime(2022,2,24,0,0,0)).astype(int)"
   ]
  },
  {
   "cell_type": "code",
   "execution_count": 75,
   "id": "84715e29",
   "metadata": {},
   "outputs": [],
   "source": [
    "def change_grade(x):\n",
    "#     if not str(x).isnumeric():\n",
    "#         return None\n",
    "    if x < -2:\n",
    "        return 0\n",
    "    elif x > 3:\n",
    "        return 2\n",
    "    else:\n",
    "        return 1\n",
    "\n",
    "df2['D_7_trend'] = ((df2['close_D_7_pl'] - df2['close'])/df2['close'] *100).apply(lambda x: change_grade(x))\n",
    "df2['D_14_trend'] = ((df2['close_D_14_pl'] - df2['close'])/df2['close'] *100).apply(lambda x: change_grade(x))\n",
    "df2['M_1_trend'] = ((df2['close_M_1_pl'] - df2['close'])/df2['close'] *100).apply(lambda x: change_grade(x))\n",
    "df2['M_2_trend'] = ((df2['close_M_2_pl'] - df2['close'])/df2['close'] *100).apply(lambda x: change_grade(x))\n",
    "df2['M_3_trend'] = ((df2['close_M_3_pl'] - df2['close'])/df2['close'] *100).apply(lambda x: change_grade(x))\n",
    "\n",
    "df2['change_trend'] = df2['D_7_trend']\n"
   ]
  },
  {
   "cell_type": "code",
   "execution_count": 76,
   "id": "92d970d0",
   "metadata": {},
   "outputs": [
    {
     "data": {
      "text/plain": [
       "change_trend\n",
       "0    191\n",
       "1    369\n",
       "2    161\n",
       "Name: change_trend, dtype: int64"
      ]
     },
     "execution_count": 76,
     "metadata": {},
     "output_type": "execute_result"
    }
   ],
   "source": [
    "df2[df2['close_D_7_pl'].notnull()].groupby('change_trend')['change_trend'].count()"
   ]
  },
  {
   "cell_type": "code",
   "execution_count": 77,
   "id": "a78856c2",
   "metadata": {},
   "outputs": [
    {
     "data": {
      "text/plain": [
       "((721, 75), (4189, 75))"
      ]
     },
     "execution_count": 77,
     "metadata": {},
     "output_type": "execute_result"
    }
   ],
   "source": [
    "df2[df2['close_D_7_pl'].notnull()].shape, df2.shape"
   ]
  },
  {
   "cell_type": "code",
   "execution_count": 78,
   "id": "f023df23",
   "metadata": {},
   "outputs": [],
   "source": [
    "df2 = df2[df2['close_D_7_pl'].notnull()]"
   ]
  },
  {
   "cell_type": "code",
   "execution_count": 79,
   "id": "5d93bb93",
   "metadata": {},
   "outputs": [
    {
     "data": {
      "text/plain": [
       "(Timestamp('2015-09-05 00:00:00'), 699.0)"
      ]
     },
     "execution_count": 79,
     "metadata": {},
     "output_type": "execute_result"
    }
   ],
   "source": [
    "df2.next_fillingDate.min(), df2.days_ipo.min()"
   ]
  },
  {
   "cell_type": "code",
   "execution_count": 80,
   "id": "5f18fb2e",
   "metadata": {},
   "outputs": [],
   "source": [
    "df2['year'] = df2['year'].astype(int)"
   ]
  },
  {
   "cell_type": "code",
   "execution_count": 81,
   "id": "3d82a202",
   "metadata": {},
   "outputs": [],
   "source": [
    "df2.drop(columns=['country', 'city', 'state', 'currency', 'date_y','date_x'], inplace=True)"
   ]
  },
  {
   "cell_type": "code",
   "execution_count": 82,
   "id": "0283e443",
   "metadata": {},
   "outputs": [],
   "source": [
    "df_train = df2[ (df2['year']>2008) & (df2['next_fillingDate']<datetime.datetime(2022,11,1))  ] #(df2['year']<2020) # & (df2['future_change'].notnull())\n",
    "df_test = df2[ df2['next_fillingDate']>=datetime.datetime(2022,11,1) ] #& (df2['days_ipo']>=800) & (\n",
    "\n",
    "\n",
    "y_train = df_train.change_trend\n",
    "y_test = df_test.change_trend"
   ]
  },
  {
   "cell_type": "code",
   "execution_count": 83,
   "id": "fd5d7621",
   "metadata": {},
   "outputs": [],
   "source": [
    "X_train = df_train.drop(columns=['next_fillingDate', 'change_trend', 'symbol', 'D_7_trend', 'D_14_trend', 'M_1_trend', 'M_2_trend', 'M_3_trend']).fillna(0)\n",
    "X_test = df_test.drop(columns=['next_fillingDate', 'change_trend', 'symbol', 'D_7_trend', 'D_14_trend', 'M_1_trend', 'M_2_trend', 'M_3_trend']).fillna(0)\n"
   ]
  },
  {
   "cell_type": "code",
   "execution_count": 84,
   "id": "b3807098",
   "metadata": {},
   "outputs": [],
   "source": [
    "# X_train.columns"
   ]
  },
  {
   "cell_type": "code",
   "execution_count": 85,
   "id": "97803f10",
   "metadata": {},
   "outputs": [
    {
     "data": {
      "text/plain": [
       "((567, 61), (154, 61))"
      ]
     },
     "execution_count": 85,
     "metadata": {},
     "output_type": "execute_result"
    }
   ],
   "source": [
    "X_train.shape, X_test.shape"
   ]
  },
  {
   "cell_type": "code",
   "execution_count": 86,
   "id": "581d04c1",
   "metadata": {},
   "outputs": [
    {
     "data": {
      "application/vnd.jupyter.widget-view+json": {
       "model_id": "1577a988ce8849fa9c240b51337e0b4d",
       "version_major": 2,
       "version_minor": 0
      },
      "text/plain": [
       "MetricVisualizer(layout=Layout(align_self='stretch', height='500px'))"
      ]
     },
     "metadata": {},
     "output_type": "display_data"
    }
   ],
   "source": [
    "from catboost import CatBoostClassifier\n",
    "\n",
    "estimator = CatBoostClassifier(\n",
    "\n",
    "    \n",
    "    loss_function= 'MultiClass',\n",
    "     iterations= 1133,\n",
    "     learning_rate= 0.2894935523547147,\n",
    "     l2_leaf_reg= 0.9972806210667003,\n",
    "     bootstrap_type= 'No',\n",
    "     random_strength= 3.11006132246578478,\n",
    "     depth= 9,\n",
    "\n",
    "    \n",
    "   use_best_model=True, \n",
    "    cat_features= [ 'industry', 'sector', 'quartal', 'd_24'], \n",
    "   random_seed=42) #custom_metric=['Accuracy','AUC'], eval_metric='F1', #MultiClass, Logloss\n",
    "estimator.fit(X_train, y_train, eval_set=(X_test, y_test), verbose=False, plot=True)#, cat_features = categoricals)\n",
    "cat_predict_proba = estimator.predict_proba(X_test)\n",
    "cat_predict =  estimator.predict(X_test)\n",
    "predictions = np.argmax(cat_predict_proba, axis=1)\n",
    "\n",
    "\n"
   ]
  },
  {
   "cell_type": "code",
   "execution_count": 87,
   "id": "fd71a25f",
   "metadata": {},
   "outputs": [
    {
     "name": "stdout",
     "output_type": "stream",
     "text": [
      "Accuracy of prediction catboost:0.5714\n",
      "precision of prediction catboost:0.5714\n",
      "recall of prediction catboost:0.5714\n",
      "mean_absolute of prediction catboost:0.5000\n",
      "mean_squared of prediction catboost:0.6429\n",
      "f1 score of prediction catboost:0.5714\n",
      "roc_auc of prediction catboost:0.7387\n"
     ]
    }
   ],
   "source": [
    "from sklearn.metrics import mean_absolute_error,mean_squared_error,accuracy_score, precision_score, recall_score, roc_auc_score, f1_score\n",
    "accuracy_cat = accuracy_score(y_test, cat_predict)\n",
    "precision_cat = precision_score(y_test, cat_predict, average='micro' )\n",
    "recall_cat = recall_score(y_test, cat_predict , average='micro')\n",
    "# roc_auc_lgbm = roc_auc_score(y_test, ypred , multi_class='ovo')\n",
    "mean_absolute_cat = mean_absolute_error(y_test, cat_predict )\n",
    "mean_squared_cat = mean_squared_error(y_test, cat_predict )\n",
    "f1_score_cat = f1_score(y_test, cat_predict, average='micro' )\n",
    "print(f\"Accuracy of prediction catboost:{accuracy_cat:0.4f}\")\n",
    "print(f\"precision of prediction catboost:{precision_cat:0.4f}\")\n",
    "print(f\"recall of prediction catboost:{recall_cat:0.4f}\")\n",
    "# print(f\"roc_auc of prediction:{roc_auc_lgbm:0.4f}\")\n",
    "print(f\"mean_absolute of prediction catboost:{mean_absolute_cat:0.4f}\")\n",
    "print(f\"mean_squared of prediction catboost:{mean_squared_cat:0.4f}\")\n",
    "print(f\"f1 score of prediction catboost:{f1_score_cat:0.4f}\")\n",
    "roc_auc_cat = roc_auc_score(y_test, cat_predict_proba , multi_class='ovr')\n",
    "print(f\"roc_auc of prediction catboost:{roc_auc_cat:0.4f}\")"
   ]
  },
  {
   "cell_type": "code",
   "execution_count": 88,
   "id": "3986f664",
   "metadata": {},
   "outputs": [
    {
     "data": {
      "text/plain": [
       "<sklearn.metrics._plot.confusion_matrix.ConfusionMatrixDisplay at 0x7f9e67121f40>"
      ]
     },
     "execution_count": 88,
     "metadata": {},
     "output_type": "execute_result"
    },
    {
     "data": {
      "image/png": "[encoded data removed]",
      "text/plain": [
       "<Figure size 432x288 with 2 Axes>"
      ]
     },
     "metadata": {
      "needs_background": "light"
     },
     "output_type": "display_data"
    }
   ],
   "source": [
    "from sklearn.metrics import confusion_matrix, ConfusionMatrixDisplay\n",
    "\n",
    "disp=ConfusionMatrixDisplay(confusion_matrix=confusion_matrix(y_test, cat_predict))\n",
    "disp.plot()"
   ]
  },
  {
   "cell_type": "code",
   "execution_count": 89,
   "id": "3f1728db",
   "metadata": {},
   "outputs": [
    {
     "data": {
      "text/html": [
       "<div>\n",
       "<style scoped>\n",
       "    .dataframe tbody tr th:only-of-type {\n",
       "        vertical-align: middle;\n",
       "    }\n",
       "\n",
       "    .dataframe tbody tr th {\n",
       "        vertical-align: top;\n",
       "    }\n",
       "\n",
       "    .dataframe thead th {\n",
       "        text-align: right;\n",
       "    }\n",
       "</style>\n",
       "<table border=\"1\" class=\"dataframe\">\n",
       "  <thead>\n",
       "    <tr style=\"text-align: right;\">\n",
       "      <th></th>\n",
       "      <th>feature_name</th>\n",
       "      <th>feature_importance</th>\n",
       "    </tr>\n",
       "  </thead>\n",
       "  <tbody>\n",
       "    <tr>\n",
       "      <th>49</th>\n",
       "      <td>close_M_1_change</td>\n",
       "      <td>5.474</td>\n",
       "    </tr>\n",
       "    <tr>\n",
       "      <th>47</th>\n",
       "      <td>close_D_7_change</td>\n",
       "      <td>5.431</td>\n",
       "    </tr>\n",
       "    <tr>\n",
       "      <th>30</th>\n",
       "      <td>industry</td>\n",
       "      <td>4.221</td>\n",
       "    </tr>\n",
       "    <tr>\n",
       "      <th>48</th>\n",
       "      <td>close_D_14_change</td>\n",
       "      <td>4.186</td>\n",
       "    </tr>\n",
       "    <tr>\n",
       "      <th>52</th>\n",
       "      <td>close_M_6_change</td>\n",
       "      <td>3.724</td>\n",
       "    </tr>\n",
       "    <tr>\n",
       "      <th>51</th>\n",
       "      <td>close_M_3_change</td>\n",
       "      <td>3.612</td>\n",
       "    </tr>\n",
       "    <tr>\n",
       "      <th>50</th>\n",
       "      <td>close_M_2_change</td>\n",
       "      <td>3.160</td>\n",
       "    </tr>\n",
       "    <tr>\n",
       "      <th>23</th>\n",
       "      <td>P/E</td>\n",
       "      <td>2.880</td>\n",
       "    </tr>\n",
       "    <tr>\n",
       "      <th>53</th>\n",
       "      <td>close_Y_1_change</td>\n",
       "      <td>2.871</td>\n",
       "    </tr>\n",
       "    <tr>\n",
       "      <th>58</th>\n",
       "      <td>cos_month</td>\n",
       "      <td>2.814</td>\n",
       "    </tr>\n",
       "    <tr>\n",
       "      <th>9</th>\n",
       "      <td>Чистый долг, млрд руб</td>\n",
       "      <td>2.702</td>\n",
       "    </tr>\n",
       "    <tr>\n",
       "      <th>29</th>\n",
       "      <td>quartal</td>\n",
       "      <td>2.495</td>\n",
       "    </tr>\n",
       "    <tr>\n",
       "      <th>24</th>\n",
       "      <td>P/S</td>\n",
       "      <td>2.357</td>\n",
       "    </tr>\n",
       "    <tr>\n",
       "      <th>17</th>\n",
       "      <td>BV/акцию, руб</td>\n",
       "      <td>2.069</td>\n",
       "    </tr>\n",
       "    <tr>\n",
       "      <th>59</th>\n",
       "      <td>sin_month</td>\n",
       "      <td>1.943</td>\n",
       "    </tr>\n",
       "    <tr>\n",
       "      <th>8</th>\n",
       "      <td>Наличность, млрд руб</td>\n",
       "      <td>1.927</td>\n",
       "    </tr>\n",
       "    <tr>\n",
       "      <th>20</th>\n",
       "      <td>Доходность FCF, %</td>\n",
       "      <td>1.764</td>\n",
       "    </tr>\n",
       "    <tr>\n",
       "      <th>60</th>\n",
       "      <td>d_24</td>\n",
       "      <td>1.727</td>\n",
       "    </tr>\n",
       "    <tr>\n",
       "      <th>38</th>\n",
       "      <td>close_M_2</td>\n",
       "      <td>1.609</td>\n",
       "    </tr>\n",
       "    <tr>\n",
       "      <th>56</th>\n",
       "      <td>cos_period</td>\n",
       "      <td>1.580</td>\n",
       "    </tr>\n",
       "    <tr>\n",
       "      <th>15</th>\n",
       "      <td>EPS, руб</td>\n",
       "      <td>1.580</td>\n",
       "    </tr>\n",
       "    <tr>\n",
       "      <th>12</th>\n",
       "      <td>Капитализация, млрд руб</td>\n",
       "      <td>1.562</td>\n",
       "    </tr>\n",
       "    <tr>\n",
       "      <th>22</th>\n",
       "      <td>ROA, %</td>\n",
       "      <td>1.556</td>\n",
       "    </tr>\n",
       "    <tr>\n",
       "      <th>54</th>\n",
       "      <td>month</td>\n",
       "      <td>1.555</td>\n",
       "    </tr>\n",
       "    <tr>\n",
       "      <th>45</th>\n",
       "      <td>close_M_1_pl</td>\n",
       "      <td>1.537</td>\n",
       "    </tr>\n",
       "    <tr>\n",
       "      <th>32</th>\n",
       "      <td>days_ipo</td>\n",
       "      <td>1.473</td>\n",
       "    </tr>\n",
       "    <tr>\n",
       "      <th>25</th>\n",
       "      <td>P/BV</td>\n",
       "      <td>1.452</td>\n",
       "    </tr>\n",
       "    <tr>\n",
       "      <th>31</th>\n",
       "      <td>sector</td>\n",
       "      <td>1.445</td>\n",
       "    </tr>\n",
       "    <tr>\n",
       "      <th>13</th>\n",
       "      <td>EV, млрд руб</td>\n",
       "      <td>1.442</td>\n",
       "    </tr>\n",
       "    <tr>\n",
       "      <th>10</th>\n",
       "      <td>Цена акции ао, руб</td>\n",
       "      <td>1.417</td>\n",
       "    </tr>\n",
       "    <tr>\n",
       "      <th>40</th>\n",
       "      <td>close_M_6</td>\n",
       "      <td>1.406</td>\n",
       "    </tr>\n",
       "    <tr>\n",
       "      <th>28</th>\n",
       "      <td>year</td>\n",
       "      <td>1.339</td>\n",
       "    </tr>\n",
       "    <tr>\n",
       "      <th>19</th>\n",
       "      <td>Чистая рентаб, %</td>\n",
       "      <td>1.255</td>\n",
       "    </tr>\n",
       "    <tr>\n",
       "      <th>42</th>\n",
       "      <td>close_D_7_pl</td>\n",
       "      <td>1.235</td>\n",
       "    </tr>\n",
       "    <tr>\n",
       "      <th>3</th>\n",
       "      <td>Див доход, ао, %</td>\n",
       "      <td>1.235</td>\n",
       "    </tr>\n",
       "    <tr>\n",
       "      <th>11</th>\n",
       "      <td>Число акций ао, млн</td>\n",
       "      <td>1.178</td>\n",
       "    </tr>\n",
       "    <tr>\n",
       "      <th>7</th>\n",
       "      <td>Долг, млрд руб</td>\n",
       "      <td>1.170</td>\n",
       "    </tr>\n",
       "    <tr>\n",
       "      <th>41</th>\n",
       "      <td>close_Y_1</td>\n",
       "      <td>1.133</td>\n",
       "    </tr>\n",
       "    <tr>\n",
       "      <th>4</th>\n",
       "      <td>Дивиденды/прибыль, %</td>\n",
       "      <td>1.123</td>\n",
       "    </tr>\n",
       "    <tr>\n",
       "      <th>34</th>\n",
       "      <td>open</td>\n",
       "      <td>1.094</td>\n",
       "    </tr>\n",
       "    <tr>\n",
       "      <th>1</th>\n",
       "      <td>Чистая прибыль, млрд руб</td>\n",
       "      <td>1.092</td>\n",
       "    </tr>\n",
       "    <tr>\n",
       "      <th>33</th>\n",
       "      <td>close</td>\n",
       "      <td>1.077</td>\n",
       "    </tr>\n",
       "    <tr>\n",
       "      <th>35</th>\n",
       "      <td>close_D_7</td>\n",
       "      <td>1.054</td>\n",
       "    </tr>\n",
       "    <tr>\n",
       "      <th>6</th>\n",
       "      <td>Чистые активы, млрд руб</td>\n",
       "      <td>1.025</td>\n",
       "    </tr>\n",
       "    <tr>\n",
       "      <th>21</th>\n",
       "      <td>ROE, %</td>\n",
       "      <td>0.952</td>\n",
       "    </tr>\n",
       "    <tr>\n",
       "      <th>16</th>\n",
       "      <td>FCF/акцию, руб</td>\n",
       "      <td>0.898</td>\n",
       "    </tr>\n",
       "    <tr>\n",
       "      <th>55</th>\n",
       "      <td>period_</td>\n",
       "      <td>0.830</td>\n",
       "    </tr>\n",
       "    <tr>\n",
       "      <th>5</th>\n",
       "      <td>Активы, млрд руб</td>\n",
       "      <td>0.798</td>\n",
       "    </tr>\n",
       "    <tr>\n",
       "      <th>46</th>\n",
       "      <td>close_M_3_pl</td>\n",
       "      <td>0.763</td>\n",
       "    </tr>\n",
       "    <tr>\n",
       "      <th>57</th>\n",
       "      <td>sin_period</td>\n",
       "      <td>0.736</td>\n",
       "    </tr>\n",
       "    <tr>\n",
       "      <th>18</th>\n",
       "      <td>Рентаб EBITDA, %</td>\n",
       "      <td>0.703</td>\n",
       "    </tr>\n",
       "    <tr>\n",
       "      <th>44</th>\n",
       "      <td>close_M_2_pl</td>\n",
       "      <td>0.653</td>\n",
       "    </tr>\n",
       "    <tr>\n",
       "      <th>36</th>\n",
       "      <td>close_D_14</td>\n",
       "      <td>0.636</td>\n",
       "    </tr>\n",
       "    <tr>\n",
       "      <th>39</th>\n",
       "      <td>close_M_3</td>\n",
       "      <td>0.600</td>\n",
       "    </tr>\n",
       "    <tr>\n",
       "      <th>37</th>\n",
       "      <td>close_M_1</td>\n",
       "      <td>0.576</td>\n",
       "    </tr>\n",
       "    <tr>\n",
       "      <th>2</th>\n",
       "      <td>CAPEX, млрд руб</td>\n",
       "      <td>0.554</td>\n",
       "    </tr>\n",
       "    <tr>\n",
       "      <th>0</th>\n",
       "      <td>Выручка, млрд руб</td>\n",
       "      <td>0.476</td>\n",
       "    </tr>\n",
       "    <tr>\n",
       "      <th>14</th>\n",
       "      <td>Баланс стоимость, млрд руб</td>\n",
       "      <td>0.412</td>\n",
       "    </tr>\n",
       "    <tr>\n",
       "      <th>43</th>\n",
       "      <td>close_D_14_pl</td>\n",
       "      <td>0.291</td>\n",
       "    </tr>\n",
       "    <tr>\n",
       "      <th>27</th>\n",
       "      <td>CAPEX/Выручка, %</td>\n",
       "      <td>0.141</td>\n",
       "    </tr>\n",
       "    <tr>\n",
       "      <th>26</th>\n",
       "      <td>R&amp;D/CAPEX, %</td>\n",
       "      <td>0.000</td>\n",
       "    </tr>\n",
       "  </tbody>\n",
       "</table>\n",
       "</div>"
      ],
      "text/plain": [
       "                  feature_name  feature_importance\n",
       "49            close_M_1_change               5.474\n",
       "47            close_D_7_change               5.431\n",
       "30                    industry               4.221\n",
       "48           close_D_14_change               4.186\n",
       "52            close_M_6_change               3.724\n",
       "51            close_M_3_change               3.612\n",
       "50            close_M_2_change               3.160\n",
       "23                         P/E               2.880\n",
       "53            close_Y_1_change               2.871\n",
       "58                   cos_month               2.814\n",
       "9        Чистый долг, млрд руб               2.702\n",
       "29                     quartal               2.495\n",
       "24                         P/S               2.357\n",
       "17               BV/акцию, руб               2.069\n",
       "59                   sin_month               1.943\n",
       "8         Наличность, млрд руб               1.927\n",
       "20           Доходность FCF, %               1.764\n",
       "60                        d_24               1.727\n",
       "38                   close_M_2               1.609\n",
       "56                  cos_period               1.580\n",
       "15                    EPS, руб               1.580\n",
       "12     Капитализация, млрд руб               1.562\n",
       "22                      ROA, %               1.556\n",
       "54                       month               1.555\n",
       "45                close_M_1_pl               1.537\n",
       "32                    days_ipo               1.473\n",
       "25                        P/BV               1.452\n",
       "31                      sector               1.445\n",
       "13                EV, млрд руб               1.442\n",
       "10          Цена акции ао, руб               1.417\n",
       "40                   close_M_6               1.406\n",
       "28                        year               1.339\n",
       "19            Чистая рентаб, %               1.255\n",
       "42                close_D_7_pl               1.235\n",
       "3             Див доход, ао, %               1.235\n",
       "11         Число акций ао, млн               1.178\n",
       "7               Долг, млрд руб               1.170\n",
       "41                   close_Y_1               1.133\n",
       "4         Дивиденды/прибыль, %               1.123\n",
       "34                        open               1.094\n",
       "1     Чистая прибыль, млрд руб               1.092\n",
       "33                       close               1.077\n",
       "35                   close_D_7               1.054\n",
       "6      Чистые активы, млрд руб               1.025\n",
       "21                      ROE, %               0.952\n",
       "16              FCF/акцию, руб               0.898\n",
       "55                     period_               0.830\n",
       "5             Активы, млрд руб               0.798\n",
       "46                close_M_3_pl               0.763\n",
       "57                  sin_period               0.736\n",
       "18            Рентаб EBITDA, %               0.703\n",
       "44                close_M_2_pl               0.653\n",
       "36                  close_D_14               0.636\n",
       "39                   close_M_3               0.600\n",
       "37                   close_M_1               0.576\n",
       "2              CAPEX, млрд руб               0.554\n",
       "0            Выручка, млрд руб               0.476\n",
       "14  Баланс стоимость, млрд руб               0.412\n",
       "43               close_D_14_pl               0.291\n",
       "27            CAPEX/Выручка, %               0.141\n",
       "26                R&D/CAPEX, %               0.000"
      ]
     },
     "execution_count": 89,
     "metadata": {},
     "output_type": "execute_result"
    }
   ],
   "source": [
    "feature_importance = pd.DataFrame(columns = ['feature_name', 'feature_importance'])\n",
    "feature_importance['feature_name'] = X_train.keys()\n",
    "feature_importance['feature_importance'] = estimator.feature_importances_ #svm_model.coef_.T #\n",
    "feature_importance.sort_values(by='feature_importance', ascending=False)#[:50]"
   ]
  },
  {
   "cell_type": "code",
   "execution_count": null,
   "id": "d6339ff4",
   "metadata": {},
   "outputs": [],
   "source": []
  }
 ],
 "metadata": {
  "kernelspec": {
   "display_name": "Python 3 (ipykernel)",
   "language": "python",
   "name": "python3"
  },
  "language_info": {
   "codemirror_mode": {
    "name": "ipython",
    "version": 3
   },
   "file_extension": ".py",
   "mimetype": "text/x-python",
   "name": "python",
   "nbconvert_exporter": "python",
   "pygments_lexer": "ipython3",
   "version": "3.11.1"
  }
 },
 "nbformat": 4,
 "nbformat_minor": 5
}
