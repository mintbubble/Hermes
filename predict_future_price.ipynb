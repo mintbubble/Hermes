{
 "cells": [
  {
   "cell_type": "code",
   "execution_count": 1,
   "id": "22b23d88",
   "metadata": {},
   "outputs": [],
   "source": [
    "import numpy as np\n",
    "import pandas as pd\n",
    "\n",
    "import torch\n",
    "from torch import nn\n",
    "from torch.nn import functional as F\n",
    "\n",
    "import torchvision\n",
    "from torch import optim\n",
    "\n",
    "from matplotlib import pyplot as plt\n",
    "from IPython.display import clear_output\n",
    "from collections import OrderedDict"
   ]
  },
  {
   "cell_type": "code",
   "execution_count": 2,
   "id": "98ab876b",
   "metadata": {},
   "outputs": [],
   "source": [
    "import os\n",
    "from tqdm import tqdm\n",
    "from sklearn.model_selection import train_test_split"
   ]
  },
  {
   "cell_type": "code",
   "execution_count": 3,
   "id": "e030161f",
   "metadata": {},
   "outputs": [],
   "source": [
    "def rgba2rgb( rgba, background=(255,255,255) ):\n",
    "    rgba = np.array(rgba)\n",
    "    row, col, ch = rgba.shape\n",
    "\n",
    "    if ch == 3:\n",
    "        return rgba\n",
    "\n",
    "    assert ch == 4, 'RGBA image has 4 channels.'\n",
    "\n",
    "    rgb = np.zeros( (row, col, 3), dtype='float32' )\n",
    "    r, g, b, a = rgba[:,:,0], rgba[:,:,1], rgba[:,:,2], rgba[:,:,3]\n",
    "\n",
    "    a = np.asarray( a, dtype='float32' ) / 255.0\n",
    "\n",
    "    R, G, B = background\n",
    "\n",
    "    rgb[:,:,0] = r * a + (1.0 - a) * R\n",
    "    rgb[:,:,1] = g * a + (1.0 - a) * G\n",
    "    rgb[:,:,2] = b * a + (1.0 - a) * B\n",
    "\n",
    "    return np.asarray( rgb, dtype='uint8' )"
   ]
  },
  {
   "cell_type": "code",
   "execution_count": 4,
   "id": "e535c83d",
   "metadata": {},
   "outputs": [],
   "source": [
    "import numpy\n",
    "from PIL import Image\n",
    "\n",
    "def get_image(image_path):\n",
    "    \"\"\"Get a numpy array of an image so that one can access values[x][y].\"\"\"\n",
    "    image = Image.open(image_path, \"r\")\n",
    "    image = image.resize((300, 200)) \n",
    "    image = rgba2rgb(image)\n",
    "    #image = image.convert('RGB')\n",
    "    img_array = np.array(image)\n",
    "    return img_array"
   ]
  },
  {
   "cell_type": "code",
   "execution_count": 5,
   "id": "68dcb66e",
   "metadata": {},
   "outputs": [],
   "source": [
    "def return_files(path):\n",
    "    dir_list = os.listdir(path)\n",
    "    files = []\n",
    "    for file in tqdm(dir_list):\n",
    "        files.append(path + '\\\\' + file)\n",
    "    return files"
   ]
  },
  {
   "cell_type": "code",
   "execution_count": 7,
   "id": "77718902",
   "metadata": {},
   "outputs": [
    {
     "name": "stderr",
     "output_type": "stream",
     "text": [
      "100%|███████████████████████████████████████████████████████████████████████| 18098/18098 [00:00<00:00, 1291686.04it/s]\n"
     ]
    }
   ],
   "source": [
    "fl2 = return_files(r\"calc_img3 2\\calc_img3\\D_\\Code\\Petrukhin\\fee\\client_open\\client_project\")"
   ]
  },
  {
   "cell_type": "code",
   "execution_count": 8,
   "id": "7fd01c06",
   "metadata": {},
   "outputs": [
    {
     "name": "stderr",
     "output_type": "stream",
     "text": [
      "100%|█████████████████████████████████████████████████████████████████████| 139518/139518 [00:00<00:00, 2295214.12it/s]\n"
     ]
    }
   ],
   "source": [
    "fl3 = return_files(r\"calc_img3 3\\calc_img3\\D_\\Code\\Petrukhin\\fee\\client_open\\client_project\")"
   ]
  },
  {
   "cell_type": "code",
   "execution_count": 9,
   "id": "3c7a918e",
   "metadata": {},
   "outputs": [
    {
     "name": "stderr",
     "output_type": "stream",
     "text": [
      "100%|█████████████████████████████████████████████████████████████████████| 154874/154874 [00:00<00:00, 2187189.22it/s]\n"
     ]
    }
   ],
   "source": [
    "fl4 = return_files(r'calc_ing4\\calc_ing4\\D_\\Code\\Petrukhin\\fee\\client_open\\client_project')"
   ]
  },
  {
   "cell_type": "code",
   "execution_count": 10,
   "id": "c45e4a32",
   "metadata": {},
   "outputs": [],
   "source": [
    "files = fl1 + fl2 + fl3 + fl4"
   ]
  },
  {
   "cell_type": "code",
   "execution_count": 11,
   "id": "75a24341",
   "metadata": {},
   "outputs": [],
   "source": [
    "def return_image_and_label(file):\n",
    "    splits = file.split('_')\n",
    "    image = get_image(file)\n",
    "    percent = float(splits[-1][:-4])\n",
    "    \n",
    "    label = 0\n",
    "    if percent > 3.:\n",
    "        label = 1\n",
    "        \n",
    "    return image, label"
   ]
  },
  {
   "cell_type": "code",
   "execution_count": 12,
   "id": "8e35338a",
   "metadata": {},
   "outputs": [],
   "source": [
    "def calc_dist(files):\n",
    "    d = {0: 0, 1: 0, 2: 0}\n",
    "    for file in tqdm(files):\n",
    "        splits = file.split('_')\n",
    "        percent = float(splits[-1][:-4])\n",
    "        label = 0\n",
    "        if percent >= 3.:\n",
    "            label = 1\n",
    "        yield label"
   ]
  },
  {
   "cell_type": "code",
   "execution_count": 13,
   "id": "c1b8a8d5",
   "metadata": {},
   "outputs": [
    {
     "name": "stderr",
     "output_type": "stream",
     "text": [
      "100%|██████████████████████████████████████████████████████████████████████| 315761/315761 [00:00<00:00, 958093.55it/s]\n"
     ]
    }
   ],
   "source": [
    "y = list(calc_dist(files))"
   ]
  },
  {
   "cell_type": "code",
   "execution_count": 14,
   "id": "3883bbc4",
   "metadata": {},
   "outputs": [],
   "source": [
    "\n",
    "import numpy as np \n",
    "from sklearn.utils.class_weight import compute_class_weight \n",
    "class_weight = compute_class_weight(class_weight=\"balanced\", classes=np.unique(y), y=y)"
   ]
  },
  {
   "cell_type": "code",
   "execution_count": 16,
   "id": "cab7da65",
   "metadata": {},
   "outputs": [],
   "source": [
    "import torch.nn.functional as F \n",
    " \n",
    "class DropBlock(nn.Module): \n",
    "    def __init__(self, block_size: int, p: float = 0.5): \n",
    "        super().__init__() \n",
    "        self.block_size = block_size \n",
    "        self.p = p \n",
    " \n",
    " \n",
    "    def calculate_gamma(self, x) -> float: \n",
    "        \"\"\"Compute gamma, eq (1) in the paper \n",
    "        Args: \n",
    "            x (Tensor): Input tensor \n",
    "        Returns: \n",
    "            Tensor: gamma \n",
    "        \"\"\" \n",
    "         \n",
    "        invalid = (1 - self.p) / (self.block_size ** 2) \n",
    "        valid = (x.shape[-1] ** 2) / ((x.shape[-1] - self.block_size + 1) ** 2) \n",
    "        return invalid * valid \n",
    " \n",
    " \n",
    " \n",
    "    def forward(self, x): \n",
    "        if self.training: \n",
    "            gamma = self.calculate_gamma(x) \n",
    "            mask = torch.bernoulli(torch.ones_like(x) * gamma) \n",
    "            mask_block = 1 - F.max_pool2d( \n",
    "                mask, \n",
    "                kernel_size=(self.block_size, self.block_size), \n",
    "                stride=(1, 1), \n",
    "                padding=(self.block_size // 2, self.block_size // 2), \n",
    "            ) \n",
    "            x = mask_block * x * (mask_block.numel() / mask_block.sum()) \n",
    "        return x"
   ]
  },
  {
   "cell_type": "code",
   "execution_count": 17,
   "id": "a6684af2",
   "metadata": {},
   "outputs": [],
   "source": [
    "import torch\n",
    "import torch.nn as nn\n",
    "import torch.nn.functional as F\n",
    "\n",
    "def drop_block_2d(\n",
    "        x,\n",
    "        drop_prob: float = 0.1,\n",
    "        block_size: int = 7,\n",
    "        gamma_scale: float = 1.0,\n",
    "        with_noise: bool = False,\n",
    "        inplace: bool = False,\n",
    "        batchwise: bool = False\n",
    "):\n",
    "    \"\"\" DropBlock. See https://arxiv.org/pdf/1810.12890.pdf\n",
    "\n",
    "    DropBlock with an experimental gaussian noise option. This layer has been tested on a few training\n",
    "    runs with success, but needs further validation and possibly optimization for lower runtime impact.\n",
    "    \"\"\"\n",
    "    B, C, H, W = x.shape\n",
    "    total_size = W * H\n",
    "    clipped_block_size = min(block_size, min(W, H))\n",
    "    # seed_drop_rate, the gamma parameter\n",
    "    gamma = gamma_scale * drop_prob * total_size / clipped_block_size ** 2 / (\n",
    "            (W - block_size + 1) * (H - block_size + 1))\n",
    "\n",
    "    # Forces the block to be inside the feature map.\n",
    "    w_i, h_i = ndgrid(torch.arange(W, device=x.device), torch.arange(H, device=x.device))\n",
    "    valid_block = ((w_i >= clipped_block_size // 2) & (w_i < W - (clipped_block_size - 1) // 2)) & \\\n",
    "                  ((h_i >= clipped_block_size // 2) & (h_i < H - (clipped_block_size - 1) // 2))\n",
    "    valid_block = torch.reshape(valid_block, (1, 1, H, W)).to(dtype=x.dtype)\n",
    "\n",
    "    if batchwise:\n",
    "        # one mask for whole batch, quite a bit faster\n",
    "        uniform_noise = torch.rand((1, C, H, W), dtype=x.dtype, device=x.device)\n",
    "    else:\n",
    "        uniform_noise = torch.rand_like(x)\n",
    "    block_mask = ((2 - gamma - valid_block + uniform_noise) >= 1).to(dtype=x.dtype)\n",
    "    block_mask = -F.max_pool2d(\n",
    "        -block_mask,\n",
    "        kernel_size=clipped_block_size,  # block_size,\n",
    "        stride=1,\n",
    "        padding=clipped_block_size // 2)\n",
    "\n",
    "    if with_noise:\n",
    "        normal_noise = torch.randn((1, C, H, W), dtype=x.dtype, device=x.device) if batchwise else torch.randn_like(x)\n",
    "        if inplace:\n",
    "            x.mul_(block_mask).add_(normal_noise * (1 - block_mask))\n",
    "        else:\n",
    "            x = x * block_mask + normal_noise * (1 - block_mask)\n",
    "    else:\n",
    "        normalize_scale = (block_mask.numel() / block_mask.to(dtype=torch.float32).sum().add(1e-7)).to(x.dtype)\n",
    "        if inplace:\n",
    "            x.mul_(block_mask * normalize_scale)\n",
    "        else:\n",
    "            x = x * block_mask * normalize_scale\n",
    "    return x\n",
    "\n",
    "def drop_block_fast_2d_old(\n",
    "        x: torch.Tensor,\n",
    "        drop_prob: float = 0.1,\n",
    "        block_size: int = 7,\n",
    "        gamma_scale: float = 1.0,\n",
    "        with_noise: bool = False,\n",
    "        inplace: bool = False,\n",
    "):\n",
    "    \"\"\" DropBlock. See https://arxiv.org/pdf/1810.12890.pdf\n",
    "\n",
    "    DropBlock with an experimental gaussian noise option. Simplied from above without concern for valid\n",
    "    block mask at edges.\n",
    "    \"\"\"\n",
    "    B, C, H, W = x.shape\n",
    "    total_size = W * H\n",
    "    clipped_block_size = min(block_size, min(W, H))\n",
    "    gamma = gamma_scale * drop_prob * total_size / clipped_block_size ** 2 / (\n",
    "            (W - block_size + 1) * (H - block_size + 1))\n",
    "\n",
    "    block_mask = torch.empty_like(x).bernoulli_(gamma)\n",
    "    block_mask = F.max_pool2d(\n",
    "        block_mask.to(x.dtype), kernel_size=clipped_block_size, stride=1, padding=clipped_block_size // 2)\n",
    "    print(block_mask)\n",
    "    if with_noise:\n",
    "        normal_noise = torch.empty_like(x).normal_()\n",
    "        if inplace:\n",
    "            x.mul_(1. - block_mask).add_(normal_noise * block_mask)\n",
    "        else:\n",
    "            x = x * (1. - block_mask) + normal_noise * block_mask\n",
    "    else:\n",
    "        block_mask = 1 - block_mask\n",
    "        normalize_scale = (block_mask.numel() / block_mask.to(dtype=torch.float32).sum().add(1e-6)).to(dtype=x.dtype)\n",
    "        if inplace:\n",
    "            x.mul_(block_mask * normalize_scale)\n",
    "        else:\n",
    "            x = x * block_mask# * normalize_scale\n",
    "    return x\n",
    "\n",
    "def drop_block_fast_2d(\n",
    "        x: torch.Tensor,\n",
    "        drop_prob: float = 0.1,\n",
    "        block_size: int = 7,\n",
    "        gamma_scale: float = 1.0,\n",
    "        with_noise: bool = False,\n",
    "        inplace: bool = False,\n",
    "):\n",
    "    \"\"\" DropBlock. See https://arxiv.org/pdf/1810.12890.pdf\n",
    "\n",
    "    DropBlock with an experimental gaussian noise option. Simplied from above without concern for valid\n",
    "    block mask at edges.\n",
    "    \"\"\"\n",
    "    B, C, H, W = x.shape\n",
    "    total_size = W * H\n",
    "    clipped_block_size = min(block_size, min(W, H))\n",
    "    gamma = gamma_scale * drop_prob * total_size / clipped_block_size ** 2 / (\n",
    "            (W - block_size + 1) * (H - block_size + 1))\n",
    "\n",
    "    block_mask = torch.empty_like(x).bernoulli_(gamma)\n",
    "    block_mask = F.max_pool3d(\n",
    "        block_mask.to(x.dtype), \n",
    "        kernel_size=clipped_block_size, stride=1, \n",
    "        padding=clipped_block_size // 2\n",
    "    )\n",
    "    x = x * (1 - block_mask) + block_mask\n",
    "    return x\n",
    "\n",
    "\n",
    "class DropBlock2d(nn.Module):\n",
    "    \"\"\" DropBlock. See https://arxiv.org/pdf/1810.12890.pdf\n",
    "    \"\"\"\n",
    "    def __init__(\n",
    "            self,\n",
    "            drop_prob: float = 0.1,\n",
    "            block_size: int = 7,\n",
    "            gamma_scale: float = 1.0,\n",
    "            with_noise: bool = False,\n",
    "            inplace: bool = False,\n",
    "            batchwise: bool = False,\n",
    "            fast: bool = True):\n",
    "        super(DropBlock2d, self).__init__()\n",
    "        self.drop_prob = drop_prob\n",
    "        self.gamma_scale = gamma_scale\n",
    "        self.block_size = block_size\n",
    "        self.with_noise = with_noise\n",
    "        self.inplace = inplace\n",
    "        self.batchwise = batchwise\n",
    "        self.fast = fast  # FIXME finish comparisons of fast vs not\n",
    "\n",
    "    def forward(self, x):\n",
    "        if not self.training or not self.drop_prob:\n",
    "            return x\n",
    "        if self.fast:\n",
    "            return drop_block_fast_2d(\n",
    "                x, self.drop_prob, self.block_size, self.gamma_scale, self.with_noise, self.inplace)\n",
    "        else:\n",
    "            return drop_block_2d(\n",
    "                x, self.drop_prob, self.block_size, self.gamma_scale, self.with_noise, self.inplace, self.batchwise)"
   ]
  },
  {
   "cell_type": "code",
   "execution_count": 18,
   "id": "2c155045",
   "metadata": {},
   "outputs": [],
   "source": [
    "from torch.utils.data import Dataset\n",
    "class TrainDataset(Dataset):\n",
    "    def __init__(self, files, transform=None, target_transform=None):\n",
    "        super().__init__()\n",
    "        self.files = files\n",
    "        self.transform = transform\n",
    "        self.target_transform = target_transform\n",
    "        #self.drop_block = DropBlock2d(drop_prob=0.1,block_size=19)#DropBlock(block_size=19, p=0.8) \n",
    "\n",
    "    def __len__(self):\n",
    "        return len(self.files)\n",
    "\n",
    "    def __getitem__(self, index):\n",
    "        image, label = return_image_and_label(self.files[index])\n",
    "        \n",
    "        image = torch.from_numpy(image)\n",
    "        image = image.permute(2, 1, 0) / 255\n",
    "        \n",
    "        #image = image.reshape((1, image.shape[0], image.shape[1], image.shape[2]))\n",
    "        #image = self.drop_block(image)\n",
    "        #image = image.reshape(( image.shape[1], image.shape[2], image.shape[3]))\n",
    "        \n",
    "        label = torch.LongTensor([label])\n",
    "        if self.transform:\n",
    "            image = self.transform(image)\n",
    "        if self.target_transform:\n",
    "            label = self.target_transform(label)\n",
    "        return image, label"
   ]
  },
  {
   "cell_type": "code",
   "execution_count": 19,
   "id": "c27224b3",
   "metadata": {},
   "outputs": [],
   "source": [
    "class TestDataset(Dataset):\n",
    "    def __init__(self, files, transform=None):\n",
    "        super().__init__()\n",
    "        self.files = files\n",
    "        self.transform = transform\n",
    "\n",
    "\n",
    "    def __len__(self):\n",
    "        return len(self.img_array)\n",
    "\n",
    "    def __getitem__(self, idx):\n",
    "        image, _ = return_image_and_label(self.files[index])\n",
    "        \n",
    "        image = torch.from_numpy(image)\n",
    "        image = image.permute(2, 1, 0) / 255\n",
    "        if self.transform:\n",
    "            image = self.transform(image)\n",
    "\n",
    "        return image"
   ]
  },
  {
   "cell_type": "code",
   "execution_count": 20,
   "id": "5da23e72",
   "metadata": {},
   "outputs": [],
   "source": [
    "from sklearn.model_selection import train_test_split"
   ]
  },
  {
   "cell_type": "code",
   "execution_count": 21,
   "id": "4401ebde",
   "metadata": {},
   "outputs": [],
   "source": [
    "import torchvision\n",
    "from torchvision.io import read_image\n",
    "from torchvision import transforms"
   ]
  },
  {
   "cell_type": "code",
   "execution_count": 22,
   "id": "feef214d",
   "metadata": {},
   "outputs": [],
   "source": [
    "# Задаём трансформеры\n",
    "data_transforms = {\n",
    "    'train': transforms.Compose([\n",
    "        transforms.Resize(224, antialias=True),\n",
    "        #transforms.RandomRotation(degrees=(-10, 10)),\n",
    "    ]),\n",
    "    'test': transforms.Compose([\n",
    "        transforms.Resize(224, antialias=True),\n",
    "        #transforms.CenterCrop(224),\n",
    "    ]),\n",
    "}"
   ]
  },
  {
   "cell_type": "code",
   "execution_count": 23,
   "id": "c99b75fb",
   "metadata": {},
   "outputs": [],
   "source": [
    "train_data, test_data = train_test_split(files)"
   ]
  },
  {
   "cell_type": "code",
   "execution_count": 24,
   "id": "78cee732",
   "metadata": {},
   "outputs": [],
   "source": [
    "train_dataset = TrainDataset(train_data)\n",
    "test_dataset = TrainDataset(test_data)"
   ]
  },
  {
   "cell_type": "code",
   "execution_count": 25,
   "id": "0808fdf1",
   "metadata": {},
   "outputs": [
    {
     "data": {
      "text/plain": [
       "torch.Size([3, 300, 200])"
      ]
     },
     "execution_count": 25,
     "metadata": {},
     "output_type": "execute_result"
    }
   ],
   "source": [
    "train_dataset[0][0].shape"
   ]
  },
  {
   "cell_type": "code",
   "execution_count": 26,
   "id": "5b0b7430",
   "metadata": {},
   "outputs": [
    {
     "data": {
      "text/plain": [
       "torch.Size([3, 300, 200])"
      ]
     },
     "execution_count": 26,
     "metadata": {},
     "output_type": "execute_result"
    }
   ],
   "source": [
    "train_dataset[0][0].shape"
   ]
  },
  {
   "cell_type": "code",
   "execution_count": 29,
   "id": "732801fd",
   "metadata": {},
   "outputs": [],
   "source": [
    "from torch.utils.data import Dataset, DataLoader\n",
    "train_dataloader = DataLoader(train_dataset, batch_size=8, shuffle=True)\n",
    "test_dataloader = DataLoader(test_dataset, batch_size=8, shuffle=False)"
   ]
  },
  {
   "cell_type": "code",
   "execution_count": 30,
   "id": "503568a5",
   "metadata": {},
   "outputs": [],
   "source": [
    "def train_step(model, dataloader, loss_fn, optimizer, scheduler=None):\n",
    "    model.train()\n",
    "\n",
    "    train_loss, train_acc = 0, 0\n",
    "\n",
    "    for batch in tqdm(dataloader):\n",
    "        inputs, labels = batch\n",
    "        #labels = labels.long()\n",
    "        inputs, labels = inputs.cuda(), labels.reshape(-1).cuda()\n",
    "\n",
    "        outputs = model(inputs)\n",
    "        \n",
    "        #print('outputs: ', outputs.shape)\n",
    "        #print('labels: ', labels.shape)\n",
    "        #print('labels: ', labels)\n",
    "\n",
    "        loss = loss_fn(outputs, labels)\n",
    "        train_loss += loss.item() \n",
    "        optimizer.zero_grad()\n",
    "\n",
    "        loss.backward()\n",
    "         \n",
    "        optimizer.step()\n",
    "\n",
    "        train_loss += loss.item()\n",
    "        _, predicted = torch.max(outputs, 1)\n",
    "        train_acc += (predicted == labels).sum().item()\n",
    "    if scheduler:\n",
    "        scheduler.step()\n",
    "    epoch_train_loss = train_loss / float(len(train_data))\n",
    "    epoch_train_accuracy = train_acc / float(len(train_data))\n",
    "\n",
    "    return epoch_train_loss, epoch_train_accuracy\n"
   ]
  },
  {
   "cell_type": "code",
   "execution_count": 31,
   "id": "b138a13e",
   "metadata": {},
   "outputs": [],
   "source": [
    "def val_step(model, dataloader, loss_fn, scheduler):\n",
    "    model.eval()\n",
    "    \n",
    "    val_loss, val_acc = 0, 0\n",
    "\n",
    "    with torch.inference_mode():\n",
    "        for batch in tqdm(dataloader):\n",
    "            inputs, labels = batch\n",
    "            #labels = labels.long()\n",
    "            inputs, labels = inputs.cuda(), labels.reshape(-1).cuda()\n",
    "\n",
    "            outputs = model(inputs)\n",
    "\n",
    "            loss = loss_fn(outputs, labels)\n",
    "            val_loss += loss.item()\n",
    "            _, predicted = torch.max(outputs, 1)\n",
    "            val_acc += (predicted == labels).sum().item()\n",
    "\n",
    "    epoch_val_loss = val_loss / float(len(test_data))\n",
    "    epoch_val_acc = val_acc / float(len(test_data))\n",
    "    if scheduler:\n",
    "        scheduler.step(epoch_val_loss)\n",
    "\n",
    "    return epoch_val_loss, epoch_val_acc"
   ]
  },
  {
   "cell_type": "code",
   "execution_count": 32,
   "id": "e6995746",
   "metadata": {},
   "outputs": [],
   "source": [
    "def train(model, train_dataloader, val_dataloader, loss_fn, optimizer, epochs, scheduler_train=None, scheduler_val=None, writer=None):\n",
    "    results = {\n",
    "        'train_loss': [],\n",
    "        'train_acc': [],\n",
    "        'val_loss': [],\n",
    "        'val_acc': []\n",
    "    }\n",
    "\n",
    "    for epoch in range(10000):\n",
    "        train_loss, train_acc = train_step(model=model,\n",
    "                                           dataloader=train_dataloader,\n",
    "                                           loss_fn=loss_fn,\n",
    "                                           optimizer=optimizer,\n",
    "                                           scheduler=scheduler_train)\n",
    "        val_loss, val_acc = val_step(model=model,\n",
    "                                      dataloader=val_dataloader,\n",
    "                                      loss_fn=loss_fn,\n",
    "                                      scheduler=scheduler_val)\n",
    "\n",
    "        print(f'Train loss: {train_loss:.4f}, train acc : {train_acc:.4f}. Val loss: {val_loss:.4f}, val acc : {val_acc:.4f}.')\n",
    "\n",
    "        #if epoch % 10 == 0:\n",
    "        #    torch.save(model.state_dict(), f'epoch{epoch}_{model.name}.pth')\n",
    "\n",
    "        results['train_loss'].append(train_loss)\n",
    "        results['train_acc'].append(train_acc)\n",
    "        results['val_loss'].append(val_loss)\n",
    "        results['val_acc'].append(val_acc)\n",
    "\n",
    "        if val_loss < min(results['val_loss']):\n",
    "            torch.save(model.state_dict(), f'best_loss_{model.name}.pth') # where???\n",
    "\n",
    "    writer.close()\n",
    "    return results"
   ]
  },
  {
   "cell_type": "code",
   "execution_count": 33,
   "id": "1a381e31",
   "metadata": {},
   "outputs": [],
   "source": [
    "class ResidualBlock(nn.Module):\n",
    "    def __init__(self, in_channels, out_channels, stride = 1, downsample = None):\n",
    "        super(ResidualBlock, self).__init__()\n",
    "        self.conv1 = nn.Sequential(\n",
    "                        nn.Conv2d(in_channels, out_channels, kernel_size = 3, stride = stride, padding = 1),\n",
    "                        nn.BatchNorm2d(out_channels),\n",
    "                        nn.ReLU())\n",
    "        self.conv2 = nn.Sequential(\n",
    "                        nn.Conv2d(out_channels, out_channels, kernel_size = 3, stride = 1, padding = 1),\n",
    "                        nn.BatchNorm2d(out_channels))\n",
    "        self.downsample = downsample\n",
    "        self.relu = nn.ReLU()\n",
    "        self.out_channels = out_channels\n",
    "        \n",
    "    def forward(self, x):\n",
    "        residual = x\n",
    "        out = self.conv1(x)\n",
    "        out = self.conv2(out)\n",
    "        if self.downsample:\n",
    "            residual = self.downsample(x)\n",
    "        out += residual\n",
    "        out = self.relu(out)\n",
    "        return out"
   ]
  },
  {
   "cell_type": "code",
   "execution_count": 34,
   "id": "921a1fae",
   "metadata": {},
   "outputs": [],
   "source": [
    "class ResNet(nn.Module):\n",
    "    def __init__(self, block, layers, num_classes = 2):\n",
    "        super(ResNet, self).__init__()\n",
    "        self.inplanes = 64\n",
    "        self.conv1 = nn.Sequential(\n",
    "                        nn.Conv2d(3, 64, kernel_size = 7, stride = 2, padding = 3),\n",
    "                        nn.BatchNorm2d(64),\n",
    "                        nn.ReLU())\n",
    "        self.maxpool = nn.MaxPool2d(kernel_size = 3, stride = 2, padding = 1)\n",
    "        self.layer0 = self._make_layer(block, 64, layers[0], stride = 1)\n",
    "        self.layer1 = self._make_layer(block, 128, layers[1], stride = 2)\n",
    "        self.layer2 = self._make_layer(block, 256, layers[2], stride = 2)\n",
    "        self.layer3 = self._make_layer(block, 512, layers[3], stride = 2)\n",
    "        self.avgpool = nn.AvgPool2d(7, stride=1)\n",
    "        self.fc = nn.Linear(2048, num_classes)\n",
    "        self.drp = nn.Dropout(0.2)\n",
    "        self.drop_block = DropBlock2d(drop_prob=0.2,block_size=19)\n",
    "        \n",
    "    def _make_layer(self, block, planes, blocks, stride=1):\n",
    "        downsample = None\n",
    "        if stride != 1 or self.inplanes != planes:\n",
    "            \n",
    "            downsample = nn.Sequential(\n",
    "                nn.Conv2d(self.inplanes, planes, kernel_size=1, stride=stride),\n",
    "                nn.BatchNorm2d(planes),\n",
    "            )\n",
    "        layers = []\n",
    "        layers.append(block(self.inplanes, planes, stride, downsample))\n",
    "        self.inplanes = planes\n",
    "        for i in range(1, blocks):\n",
    "            layers.append(block(self.inplanes, planes))\n",
    "\n",
    "        return nn.Sequential(*layers)\n",
    "    \n",
    "    \n",
    "    def forward(self, x):\n",
    "        #x = self.drop_block(x)\n",
    "        x = self.conv1(x)\n",
    "        x = self.maxpool(x)\n",
    "        x = self.layer0(x)\n",
    "        x = self.layer1(x)\n",
    "        x = self.layer2(x)\n",
    "        x = self.layer3(x)\n",
    "        #print('layer3:', x.shape)\n",
    "        x = self.avgpool(x)\n",
    "        x = x.view(x.size(0), -1)\n",
    "        x = self.drp(x)\n",
    "        #print('SHAPE:', x.shape)\n",
    "        x = self.fc(x)\n",
    "\n",
    "        return x"
   ]
  },
  {
   "cell_type": "code",
   "execution_count": 35,
   "id": "16e8f291",
   "metadata": {},
   "outputs": [],
   "source": [
    "from typing import Type, Union"
   ]
  },
  {
   "cell_type": "code",
   "execution_count": 36,
   "id": "25f3c6fc",
   "metadata": {},
   "outputs": [],
   "source": [
    "num_classes = 10\n",
    "num_epochs = 20\n",
    "batch_size = 16\n",
    "learning_rate = 0.01\n",
    "\n",
    "model = ResNet(ResidualBlock, [3, 4, 6, 3]).cuda()"
   ]
  },
  {
   "cell_type": "code",
   "execution_count": 37,
   "id": "14feafaf",
   "metadata": {},
   "outputs": [],
   "source": [
    "import torch\n",
    "from torch.utils.data import Dataset, DataLoader\n",
    "from torch import nn\n",
    "from torch import optim\n",
    "from torch.optim import lr_scheduler"
   ]
  },
  {
   "cell_type": "code",
   "execution_count": 38,
   "id": "e83397bc",
   "metadata": {},
   "outputs": [],
   "source": [
    "_class_weights = torch.FloatTensor(class_weight).cuda()"
   ]
  },
  {
   "cell_type": "code",
   "execution_count": 39,
   "id": "da4a3879",
   "metadata": {},
   "outputs": [],
   "source": [
    "lr=1e-4\n",
    "\n",
    "loss = nn.CrossEntropyLoss(weight=_class_weights)\n",
    "\n",
    "optimizer = optim.AdamW(model.parameters(), lr = 1e-4)\n",
    "step_scheduler = lr_scheduler.StepLR(optimizer, step_size=5, gamma=0.1)\n",
    "plateau_scheduler = lr_scheduler.ReduceLROnPlateau(optimizer, mode='min', factor=0.1, patience=5, verbose=True)"
   ]
  },
  {
   "cell_type": "code",
   "execution_count": 40,
   "id": "96621f8a",
   "metadata": {},
   "outputs": [
    {
     "name": "stderr",
     "output_type": "stream",
     "text": [
      "100%|████████████████████████████████████████████████████████████████████████████| 29603/29603 [30:55<00:00, 15.95it/s]\n",
      "100%|██████████████████████████████████████████████████████████████████████████████| 9868/9868 [05:37<00:00, 29.22it/s]\n"
     ]
    },
    {
     "name": "stdout",
     "output_type": "stream",
     "text": [
      "Train loss: 0.1464, train acc : 0.7359. Val loss: 0.0665, val acc : 0.7306.\n"
     ]
    },
    {
     "name": "stderr",
     "output_type": "stream",
     "text": [
      "100%|████████████████████████████████████████████████████████████████████████████| 29603/29603 [30:13<00:00, 16.32it/s]\n",
      "100%|██████████████████████████████████████████████████████████████████████████████| 9868/9868 [05:02<00:00, 32.64it/s]\n"
     ]
    },
    {
     "name": "stdout",
     "output_type": "stream",
     "text": [
      "Train loss: 0.1325, train acc : 0.7432. Val loss: 0.0643, val acc : 0.8308.\n"
     ]
    },
    {
     "name": "stderr",
     "output_type": "stream",
     "text": [
      "100%|████████████████████████████████████████████████████████████████████████████| 29603/29603 [30:25<00:00, 16.21it/s]\n",
      "100%|██████████████████████████████████████████████████████████████████████████████| 9868/9868 [05:07<00:00, 32.13it/s]\n"
     ]
    },
    {
     "name": "stdout",
     "output_type": "stream",
     "text": [
      "Train loss: 0.1252, train acc : 0.7522. Val loss: 0.0601, val acc : 0.7529.\n"
     ]
    },
    {
     "name": "stderr",
     "output_type": "stream",
     "text": [
      "100%|████████████████████████████████████████████████████████████████████████████| 29603/29603 [29:13<00:00, 16.88it/s]\n",
      "100%|██████████████████████████████████████████████████████████████████████████████| 9868/9868 [04:54<00:00, 33.52it/s]\n"
     ]
    },
    {
     "name": "stdout",
     "output_type": "stream",
     "text": [
      "Train loss: 0.1200, train acc : 0.7587. Val loss: 0.0592, val acc : 0.7644.\n"
     ]
    },
    {
     "name": "stderr",
     "output_type": "stream",
     "text": [
      "100%|████████████████████████████████████████████████████████████████████████████| 29603/29603 [29:14<00:00, 16.87it/s]\n",
      "100%|██████████████████████████████████████████████████████████████████████████████| 9868/9868 [04:58<00:00, 33.04it/s]\n"
     ]
    },
    {
     "name": "stdout",
     "output_type": "stream",
     "text": [
      "Train loss: 0.1159, train acc : 0.7627. Val loss: 0.0567, val acc : 0.7443.\n"
     ]
    },
    {
     "name": "stderr",
     "output_type": "stream",
     "text": [
      "100%|████████████████████████████████████████████████████████████████████████████| 29603/29603 [29:13<00:00, 16.88it/s]\n",
      "100%|██████████████████████████████████████████████████████████████████████████████| 9868/9868 [04:55<00:00, 33.39it/s]\n"
     ]
    },
    {
     "name": "stdout",
     "output_type": "stream",
     "text": [
      "Train loss: 0.1117, train acc : 0.7709. Val loss: 0.0571, val acc : 0.7363.\n"
     ]
    },
    {
     "name": "stderr",
     "output_type": "stream",
     "text": [
      "100%|████████████████████████████████████████████████████████████████████████████| 29603/29603 [29:17<00:00, 16.84it/s]\n",
      "100%|██████████████████████████████████████████████████████████████████████████████| 9868/9868 [05:04<00:00, 32.39it/s]\n"
     ]
    },
    {
     "name": "stdout",
     "output_type": "stream",
     "text": [
      "Train loss: 0.1069, train acc : 0.7797. Val loss: 0.0555, val acc : 0.8092.\n"
     ]
    },
    {
     "name": "stderr",
     "output_type": "stream",
     "text": [
      "100%|████████████████████████████████████████████████████████████████████████████| 29603/29603 [31:34<00:00, 15.63it/s]\n",
      "100%|██████████████████████████████████████████████████████████████████████████████| 9868/9868 [05:10<00:00, 31.82it/s]\n"
     ]
    },
    {
     "name": "stdout",
     "output_type": "stream",
     "text": [
      "Train loss: 0.1014, train acc : 0.7918. Val loss: 0.0571, val acc : 0.8031.\n"
     ]
    },
    {
     "name": "stderr",
     "output_type": "stream",
     "text": [
      "100%|████████████████████████████████████████████████████████████████████████████| 29603/29603 [29:34<00:00, 16.68it/s]\n",
      "100%|██████████████████████████████████████████████████████████████████████████████| 9868/9868 [04:59<00:00, 32.91it/s]\n"
     ]
    },
    {
     "name": "stdout",
     "output_type": "stream",
     "text": [
      "Train loss: 0.0963, train acc : 0.8050. Val loss: 0.0571, val acc : 0.8187.\n"
     ]
    },
    {
     "name": "stderr",
     "output_type": "stream",
     "text": [
      "100%|████████████████████████████████████████████████████████████████████████████| 29603/29603 [29:36<00:00, 16.67it/s]\n",
      "100%|██████████████████████████████████████████████████████████████████████████████| 9868/9868 [04:57<00:00, 33.12it/s]\n"
     ]
    },
    {
     "name": "stdout",
     "output_type": "stream",
     "text": [
      "Train loss: 0.0892, train acc : 0.8241. Val loss: 0.0579, val acc : 0.7959.\n"
     ]
    },
    {
     "name": "stderr",
     "output_type": "stream",
     "text": [
      "100%|████████████████████████████████████████████████████████████████████████████| 29603/29603 [29:47<00:00, 16.57it/s]\n",
      "100%|██████████████████████████████████████████████████████████████████████████████| 9868/9868 [05:04<00:00, 32.46it/s]\n"
     ]
    },
    {
     "name": "stdout",
     "output_type": "stream",
     "text": [
      "Train loss: 0.0813, train acc : 0.8453. Val loss: 0.0564, val acc : 0.7917.\n"
     ]
    },
    {
     "name": "stderr",
     "output_type": "stream",
     "text": [
      "100%|████████████████████████████████████████████████████████████████████████████| 29603/29603 [30:16<00:00, 16.30it/s]\n",
      "100%|██████████████████████████████████████████████████████████████████████████████| 9868/9868 [05:01<00:00, 32.72it/s]\n"
     ]
    },
    {
     "name": "stdout",
     "output_type": "stream",
     "text": [
      "Train loss: 0.0728, train acc : 0.8671. Val loss: 0.0622, val acc : 0.8162.\n"
     ]
    },
    {
     "name": "stderr",
     "output_type": "stream",
     "text": [
      "100%|████████████████████████████████████████████████████████████████████████████| 29603/29603 [30:38<00:00, 16.10it/s]\n",
      "100%|██████████████████████████████████████████████████████████████████████████████| 9868/9868 [05:01<00:00, 32.76it/s]\n"
     ]
    },
    {
     "name": "stdout",
     "output_type": "stream",
     "text": [
      "Train loss: 0.0626, train acc : 0.8928. Val loss: 0.0618, val acc : 0.7865.\n"
     ]
    },
    {
     "name": "stderr",
     "output_type": "stream",
     "text": [
      "100%|████████████████████████████████████████████████████████████████████████████| 29603/29603 [29:13<00:00, 16.88it/s]\n",
      "100%|██████████████████████████████████████████████████████████████████████████████| 9868/9868 [04:55<00:00, 33.45it/s]\n"
     ]
    },
    {
     "name": "stdout",
     "output_type": "stream",
     "text": [
      "Train loss: 0.0530, train acc : 0.9140. Val loss: 0.0799, val acc : 0.8512.\n"
     ]
    },
    {
     "name": "stderr",
     "output_type": "stream",
     "text": [
      "100%|████████████████████████████████████████████████████████████████████████████| 29603/29603 [29:16<00:00, 16.85it/s]\n",
      "100%|██████████████████████████████████████████████████████████████████████████████| 9868/9868 [05:02<00:00, 32.65it/s]\n"
     ]
    },
    {
     "name": "stdout",
     "output_type": "stream",
     "text": [
      "Train loss: 0.0432, train acc : 0.9326. Val loss: 0.0826, val acc : 0.8295.\n"
     ]
    },
    {
     "name": "stderr",
     "output_type": "stream",
     "text": [
      "100%|████████████████████████████████████████████████████████████████████████████| 29603/29603 [29:23<00:00, 16.79it/s]\n",
      "100%|██████████████████████████████████████████████████████████████████████████████| 9868/9868 [04:57<00:00, 33.12it/s]\n"
     ]
    },
    {
     "name": "stdout",
     "output_type": "stream",
     "text": [
      "Train loss: 0.0355, train acc : 0.9478. Val loss: 0.0922, val acc : 0.8554.\n"
     ]
    },
    {
     "name": "stderr",
     "output_type": "stream",
     "text": [
      "100%|████████████████████████████████████████████████████████████████████████████| 29603/29603 [29:27<00:00, 16.75it/s]\n",
      "100%|██████████████████████████████████████████████████████████████████████████████| 9868/9868 [05:01<00:00, 32.78it/s]\n"
     ]
    },
    {
     "name": "stdout",
     "output_type": "stream",
     "text": [
      "Train loss: 0.0303, train acc : 0.9563. Val loss: 0.0991, val acc : 0.8551.\n"
     ]
    },
    {
     "name": "stderr",
     "output_type": "stream",
     "text": [
      "100%|████████████████████████████████████████████████████████████████████████████| 29603/29603 [29:29<00:00, 16.73it/s]\n",
      "100%|██████████████████████████████████████████████████████████████████████████████| 9868/9868 [04:58<00:00, 33.03it/s]\n"
     ]
    },
    {
     "name": "stdout",
     "output_type": "stream",
     "text": [
      "Train loss: 0.0265, train acc : 0.9627. Val loss: 0.1014, val acc : 0.8658.\n"
     ]
    },
    {
     "name": "stderr",
     "output_type": "stream",
     "text": [
      "100%|████████████████████████████████████████████████████████████████████████████| 29603/29603 [29:21<00:00, 16.80it/s]\n",
      "100%|██████████████████████████████████████████████████████████████████████████████| 9868/9868 [04:59<00:00, 32.92it/s]\n"
     ]
    },
    {
     "name": "stdout",
     "output_type": "stream",
     "text": [
      "Train loss: 0.0235, train acc : 0.9676. Val loss: 0.1225, val acc : 0.8631.\n"
     ]
    },
    {
     "name": "stderr",
     "output_type": "stream",
     "text": [
      "100%|████████████████████████████████████████████████████████████████████████████| 29603/29603 [29:15<00:00, 16.87it/s]\n",
      "100%|██████████████████████████████████████████████████████████████████████████████| 9868/9868 [04:54<00:00, 33.46it/s]\n"
     ]
    },
    {
     "name": "stdout",
     "output_type": "stream",
     "text": [
      "Train loss: 0.0213, train acc : 0.9714. Val loss: 0.1265, val acc : 0.8697.\n"
     ]
    },
    {
     "name": "stderr",
     "output_type": "stream",
     "text": [
      "100%|████████████████████████████████████████████████████████████████████████████| 29603/29603 [29:19<00:00, 16.83it/s]\n",
      "100%|██████████████████████████████████████████████████████████████████████████████| 9868/9868 [05:08<00:00, 32.02it/s]\n"
     ]
    },
    {
     "name": "stdout",
     "output_type": "stream",
     "text": [
      "Train loss: 0.0197, train acc : 0.9733. Val loss: 0.1185, val acc : 0.8704.\n"
     ]
    },
    {
     "name": "stderr",
     "output_type": "stream",
     "text": [
      "100%|████████████████████████████████████████████████████████████████████████████| 29603/29603 [29:14<00:00, 16.87it/s]\n",
      "100%|██████████████████████████████████████████████████████████████████████████████| 9868/9868 [05:02<00:00, 32.67it/s]\n"
     ]
    },
    {
     "name": "stdout",
     "output_type": "stream",
     "text": [
      "Train loss: 0.0180, train acc : 0.9758. Val loss: 0.1214, val acc : 0.8628.\n"
     ]
    },
    {
     "name": "stderr",
     "output_type": "stream",
     "text": [
      "100%|████████████████████████████████████████████████████████████████████████████| 29603/29603 [29:12<00:00, 16.89it/s]\n",
      "100%|██████████████████████████████████████████████████████████████████████████████| 9868/9868 [05:02<00:00, 32.58it/s]\n"
     ]
    },
    {
     "name": "stdout",
     "output_type": "stream",
     "text": [
      "Train loss: 0.0173, train acc : 0.9768. Val loss: 0.1325, val acc : 0.8740.\n"
     ]
    },
    {
     "name": "stderr",
     "output_type": "stream",
     "text": [
      "100%|████████████████████████████████████████████████████████████████████████████| 29603/29603 [29:32<00:00, 16.70it/s]\n",
      "100%|██████████████████████████████████████████████████████████████████████████████| 9868/9868 [04:57<00:00, 33.18it/s]\n"
     ]
    },
    {
     "name": "stdout",
     "output_type": "stream",
     "text": [
      "Train loss: 0.0160, train acc : 0.9788. Val loss: 0.1429, val acc : 0.8716.\n"
     ]
    },
    {
     "name": "stderr",
     "output_type": "stream",
     "text": [
      "100%|████████████████████████████████████████████████████████████████████████████| 29603/29603 [29:22<00:00, 16.80it/s]\n",
      "100%|██████████████████████████████████████████████████████████████████████████████| 9868/9868 [05:02<00:00, 32.66it/s]\n"
     ]
    },
    {
     "name": "stdout",
     "output_type": "stream",
     "text": [
      "Train loss: 0.0156, train acc : 0.9794. Val loss: 0.1347, val acc : 0.8740.\n"
     ]
    },
    {
     "name": "stderr",
     "output_type": "stream",
     "text": [
      "100%|████████████████████████████████████████████████████████████████████████████| 29603/29603 [29:31<00:00, 16.71it/s]\n",
      "100%|██████████████████████████████████████████████████████████████████████████████| 9868/9868 [04:56<00:00, 33.24it/s]\n"
     ]
    },
    {
     "name": "stdout",
     "output_type": "stream",
     "text": [
      "Train loss: 0.0148, train acc : 0.9808. Val loss: 0.1461, val acc : 0.8830.\n"
     ]
    },
    {
     "name": "stderr",
     "output_type": "stream",
     "text": [
      "100%|████████████████████████████████████████████████████████████████████████████| 29603/29603 [29:24<00:00, 16.78it/s]\n",
      "100%|██████████████████████████████████████████████████████████████████████████████| 9868/9868 [05:02<00:00, 32.64it/s]\n"
     ]
    },
    {
     "name": "stdout",
     "output_type": "stream",
     "text": [
      "Train loss: 0.0142, train acc : 0.9816. Val loss: 0.1354, val acc : 0.8748.\n"
     ]
    },
    {
     "name": "stderr",
     "output_type": "stream",
     "text": [
      "100%|████████████████████████████████████████████████████████████████████████████| 29603/29603 [29:24<00:00, 16.78it/s]\n",
      "100%|██████████████████████████████████████████████████████████████████████████████| 9868/9868 [04:57<00:00, 33.21it/s]\n"
     ]
    },
    {
     "name": "stdout",
     "output_type": "stream",
     "text": [
      "Train loss: 0.0138, train acc : 0.9822. Val loss: 0.1408, val acc : 0.8833.\n"
     ]
    },
    {
     "name": "stderr",
     "output_type": "stream",
     "text": [
      "100%|████████████████████████████████████████████████████████████████████████████| 29603/29603 [29:32<00:00, 16.70it/s]\n",
      "100%|██████████████████████████████████████████████████████████████████████████████| 9868/9868 [05:00<00:00, 32.83it/s]\n"
     ]
    },
    {
     "name": "stdout",
     "output_type": "stream",
     "text": [
      "Train loss: 0.0134, train acc : 0.9829. Val loss: 0.1419, val acc : 0.8721.\n"
     ]
    },
    {
     "name": "stderr",
     "output_type": "stream",
     "text": [
      "100%|████████████████████████████████████████████████████████████████████████████| 29603/29603 [29:24<00:00, 16.77it/s]\n",
      "100%|██████████████████████████████████████████████████████████████████████████████| 9868/9868 [04:56<00:00, 33.25it/s]\n"
     ]
    },
    {
     "name": "stdout",
     "output_type": "stream",
     "text": [
      "Train loss: 0.0128, train acc : 0.9839. Val loss: 0.1429, val acc : 0.8789.\n"
     ]
    },
    {
     "name": "stderr",
     "output_type": "stream",
     "text": [
      "100%|████████████████████████████████████████████████████████████████████████████| 29603/29603 [29:18<00:00, 16.83it/s]\n",
      "100%|██████████████████████████████████████████████████████████████████████████████| 9868/9868 [05:00<00:00, 32.83it/s]\n"
     ]
    },
    {
     "name": "stdout",
     "output_type": "stream",
     "text": [
      "Train loss: 0.0120, train acc : 0.9847. Val loss: 0.1335, val acc : 0.8714.\n"
     ]
    },
    {
     "name": "stderr",
     "output_type": "stream",
     "text": [
      "100%|████████████████████████████████████████████████████████████████████████████| 29603/29603 [29:22<00:00, 16.80it/s]\n",
      "100%|██████████████████████████████████████████████████████████████████████████████| 9868/9868 [04:55<00:00, 33.39it/s]\n"
     ]
    },
    {
     "name": "stdout",
     "output_type": "stream",
     "text": [
      "Train loss: 0.0120, train acc : 0.9849. Val loss: 0.1392, val acc : 0.8693.\n"
     ]
    },
    {
     "name": "stderr",
     "output_type": "stream",
     "text": [
      "100%|████████████████████████████████████████████████████████████████████████████| 29603/29603 [29:20<00:00, 16.82it/s]\n",
      "100%|██████████████████████████████████████████████████████████████████████████████| 9868/9868 [05:00<00:00, 32.88it/s]\n"
     ]
    },
    {
     "name": "stdout",
     "output_type": "stream",
     "text": [
      "Train loss: 0.0118, train acc : 0.9850. Val loss: 0.1445, val acc : 0.8702.\n"
     ]
    },
    {
     "name": "stderr",
     "output_type": "stream",
     "text": [
      "100%|████████████████████████████████████████████████████████████████████████████| 29603/29603 [29:24<00:00, 16.77it/s]\n",
      "100%|██████████████████████████████████████████████████████████████████████████████| 9868/9868 [04:56<00:00, 33.25it/s]\n"
     ]
    },
    {
     "name": "stdout",
     "output_type": "stream",
     "text": [
      "Train loss: 0.0117, train acc : 0.9853. Val loss: 0.1328, val acc : 0.8646.\n"
     ]
    },
    {
     "name": "stderr",
     "output_type": "stream",
     "text": [
      "100%|████████████████████████████████████████████████████████████████████████████| 29603/29603 [29:25<00:00, 16.77it/s]\n",
      "100%|██████████████████████████████████████████████████████████████████████████████| 9868/9868 [05:00<00:00, 32.86it/s]\n"
     ]
    },
    {
     "name": "stdout",
     "output_type": "stream",
     "text": [
      "Train loss: 0.0109, train acc : 0.9864. Val loss: 0.1452, val acc : 0.8726.\n"
     ]
    },
    {
     "name": "stderr",
     "output_type": "stream",
     "text": [
      "100%|████████████████████████████████████████████████████████████████████████████| 29603/29603 [29:33<00:00, 16.70it/s]\n",
      "100%|██████████████████████████████████████████████████████████████████████████████| 9868/9868 [04:58<00:00, 33.02it/s]\n"
     ]
    },
    {
     "name": "stdout",
     "output_type": "stream",
     "text": [
      "Train loss: 0.0112, train acc : 0.9860. Val loss: 0.1530, val acc : 0.8827.\n"
     ]
    },
    {
     "name": "stderr",
     "output_type": "stream",
     "text": [
      "100%|████████████████████████████████████████████████████████████████████████████| 29603/29603 [29:27<00:00, 16.75it/s]\n",
      "100%|██████████████████████████████████████████████████████████████████████████████| 9868/9868 [05:00<00:00, 32.84it/s]\n"
     ]
    },
    {
     "name": "stdout",
     "output_type": "stream",
     "text": [
      "Train loss: 0.0109, train acc : 0.9863. Val loss: 0.1456, val acc : 0.8741.\n"
     ]
    },
    {
     "name": "stderr",
     "output_type": "stream",
     "text": [
      "100%|████████████████████████████████████████████████████████████████████████████| 29603/29603 [29:24<00:00, 16.77it/s]\n",
      "100%|██████████████████████████████████████████████████████████████████████████████| 9868/9868 [04:55<00:00, 33.42it/s]\n"
     ]
    },
    {
     "name": "stdout",
     "output_type": "stream",
     "text": [
      "Train loss: 0.0104, train acc : 0.9869. Val loss: 0.1566, val acc : 0.8797.\n"
     ]
    },
    {
     "name": "stderr",
     "output_type": "stream",
     "text": [
      "100%|████████████████████████████████████████████████████████████████████████████| 29603/29603 [29:20<00:00, 16.82it/s]\n",
      "100%|██████████████████████████████████████████████████████████████████████████████| 9868/9868 [05:08<00:00, 31.99it/s]\n"
     ]
    },
    {
     "name": "stdout",
     "output_type": "stream",
     "text": [
      "Train loss: 0.0104, train acc : 0.9871. Val loss: 0.1707, val acc : 0.8796.\n"
     ]
    },
    {
     "name": "stderr",
     "output_type": "stream",
     "text": [
      "100%|████████████████████████████████████████████████████████████████████████████| 29603/29603 [29:14<00:00, 16.88it/s]\n",
      "100%|██████████████████████████████████████████████████████████████████████████████| 9868/9868 [04:56<00:00, 33.26it/s]\n"
     ]
    },
    {
     "name": "stdout",
     "output_type": "stream",
     "text": [
      "Train loss: 0.0102, train acc : 0.9875. Val loss: 0.1485, val acc : 0.8743.\n"
     ]
    },
    {
     "name": "stderr",
     "output_type": "stream",
     "text": [
      "100%|████████████████████████████████████████████████████████████████████████████| 29603/29603 [29:28<00:00, 16.74it/s]\n",
      "100%|██████████████████████████████████████████████████████████████████████████████| 9868/9868 [05:00<00:00, 32.86it/s]\n"
     ]
    },
    {
     "name": "stdout",
     "output_type": "stream",
     "text": [
      "Train loss: 0.0099, train acc : 0.9876. Val loss: 0.1403, val acc : 0.8758.\n"
     ]
    },
    {
     "name": "stderr",
     "output_type": "stream",
     "text": [
      "100%|████████████████████████████████████████████████████████████████████████████| 29603/29603 [29:25<00:00, 16.77it/s]\n",
      "100%|██████████████████████████████████████████████████████████████████████████████| 9868/9868 [04:57<00:00, 33.19it/s]\n"
     ]
    },
    {
     "name": "stdout",
     "output_type": "stream",
     "text": [
      "Train loss: 0.0098, train acc : 0.9876. Val loss: 0.1617, val acc : 0.8873.\n"
     ]
    },
    {
     "name": "stderr",
     "output_type": "stream",
     "text": [
      "100%|████████████████████████████████████████████████████████████████████████████| 29603/29603 [29:30<00:00, 16.72it/s]\n",
      "100%|██████████████████████████████████████████████████████████████████████████████| 9868/9868 [05:00<00:00, 32.81it/s]\n"
     ]
    },
    {
     "name": "stdout",
     "output_type": "stream",
     "text": [
      "Train loss: 0.0099, train acc : 0.9877. Val loss: 0.1517, val acc : 0.8751.\n"
     ]
    },
    {
     "name": "stderr",
     "output_type": "stream",
     "text": [
      "100%|████████████████████████████████████████████████████████████████████████████| 29603/29603 [29:18<00:00, 16.84it/s]\n",
      "100%|██████████████████████████████████████████████████████████████████████████████| 9868/9868 [04:57<00:00, 33.14it/s]\n"
     ]
    },
    {
     "name": "stdout",
     "output_type": "stream",
     "text": [
      "Train loss: 0.0097, train acc : 0.9879. Val loss: 0.1717, val acc : 0.8874.\n"
     ]
    },
    {
     "name": "stderr",
     "output_type": "stream",
     "text": [
      "100%|████████████████████████████████████████████████████████████████████████████| 29603/29603 [29:22<00:00, 16.80it/s]\n",
      "100%|██████████████████████████████████████████████████████████████████████████████| 9868/9868 [05:00<00:00, 32.85it/s]\n"
     ]
    },
    {
     "name": "stdout",
     "output_type": "stream",
     "text": [
      "Train loss: 0.0097, train acc : 0.9876. Val loss: 0.1570, val acc : 0.8704.\n"
     ]
    },
    {
     "name": "stderr",
     "output_type": "stream",
     "text": [
      "100%|████████████████████████████████████████████████████████████████████████████| 29603/29603 [29:22<00:00, 16.80it/s]\n",
      "100%|██████████████████████████████████████████████████████████████████████████████| 9868/9868 [04:55<00:00, 33.35it/s]\n"
     ]
    },
    {
     "name": "stdout",
     "output_type": "stream",
     "text": [
      "Train loss: 0.0094, train acc : 0.9881. Val loss: 0.1589, val acc : 0.8765.\n"
     ]
    },
    {
     "name": "stderr",
     "output_type": "stream",
     "text": [
      "100%|████████████████████████████████████████████████████████████████████████████| 29603/29603 [29:25<00:00, 16.77it/s]\n",
      "100%|██████████████████████████████████████████████████████████████████████████████| 9868/9868 [05:00<00:00, 32.84it/s]\n"
     ]
    },
    {
     "name": "stdout",
     "output_type": "stream",
     "text": [
      "Train loss: 0.0096, train acc : 0.9880. Val loss: 0.1417, val acc : 0.8688.\n"
     ]
    },
    {
     "name": "stderr",
     "output_type": "stream",
     "text": [
      "100%|████████████████████████████████████████████████████████████████████████████| 29603/29603 [29:25<00:00, 16.76it/s]\n",
      "100%|██████████████████████████████████████████████████████████████████████████████| 9868/9868 [04:55<00:00, 33.41it/s]\n"
     ]
    },
    {
     "name": "stdout",
     "output_type": "stream",
     "text": [
      "Train loss: 0.0091, train acc : 0.9888. Val loss: 0.1625, val acc : 0.8769.\n"
     ]
    },
    {
     "name": "stderr",
     "output_type": "stream",
     "text": [
      "100%|████████████████████████████████████████████████████████████████████████████| 29603/29603 [29:19<00:00, 16.83it/s]\n",
      "100%|██████████████████████████████████████████████████████████████████████████████| 9868/9868 [05:00<00:00, 32.86it/s]\n"
     ]
    },
    {
     "name": "stdout",
     "output_type": "stream",
     "text": [
      "Train loss: 0.0096, train acc : 0.9880. Val loss: 0.1538, val acc : 0.8808.\n"
     ]
    },
    {
     "name": "stderr",
     "output_type": "stream",
     "text": [
      "100%|████████████████████████████████████████████████████████████████████████████| 29603/29603 [29:23<00:00, 16.79it/s]\n",
      "100%|██████████████████████████████████████████████████████████████████████████████| 9868/9868 [04:55<00:00, 33.34it/s]\n"
     ]
    },
    {
     "name": "stdout",
     "output_type": "stream",
     "text": [
      "Train loss: 0.0091, train acc : 0.9886. Val loss: 0.1488, val acc : 0.8781.\n"
     ]
    },
    {
     "name": "stderr",
     "output_type": "stream",
     "text": [
      "100%|████████████████████████████████████████████████████████████████████████████| 29603/29603 [29:26<00:00, 16.76it/s]\n",
      "100%|██████████████████████████████████████████████████████████████████████████████| 9868/9868 [05:00<00:00, 32.83it/s]\n"
     ]
    },
    {
     "name": "stdout",
     "output_type": "stream",
     "text": [
      "Train loss: 0.0092, train acc : 0.9886. Val loss: 0.1692, val acc : 0.8824.\n"
     ]
    },
    {
     "name": "stderr",
     "output_type": "stream",
     "text": [
      "100%|████████████████████████████████████████████████████████████████████████████| 29603/29603 [29:30<00:00, 16.72it/s]\n",
      "100%|██████████████████████████████████████████████████████████████████████████████| 9868/9868 [04:55<00:00, 33.44it/s]\n"
     ]
    },
    {
     "name": "stdout",
     "output_type": "stream",
     "text": [
      "Train loss: 0.0091, train acc : 0.9886. Val loss: 0.1454, val acc : 0.8747.\n"
     ]
    },
    {
     "name": "stderr",
     "output_type": "stream",
     "text": [
      "100%|████████████████████████████████████████████████████████████████████████████| 29603/29603 [29:30<00:00, 16.72it/s]\n",
      "100%|██████████████████████████████████████████████████████████████████████████████| 9868/9868 [05:02<00:00, 32.66it/s]\n"
     ]
    },
    {
     "name": "stdout",
     "output_type": "stream",
     "text": [
      "Train loss: 0.0094, train acc : 0.9887. Val loss: 0.1391, val acc : 0.8692.\n"
     ]
    },
    {
     "name": "stderr",
     "output_type": "stream",
     "text": [
      "100%|████████████████████████████████████████████████████████████████████████████| 29603/29603 [29:27<00:00, 16.74it/s]\n",
      "100%|██████████████████████████████████████████████████████████████████████████████| 9868/9868 [04:55<00:00, 33.34it/s]\n"
     ]
    },
    {
     "name": "stdout",
     "output_type": "stream",
     "text": [
      "Train loss: 0.0090, train acc : 0.9889. Val loss: 0.1479, val acc : 0.8674.\n"
     ]
    },
    {
     "name": "stderr",
     "output_type": "stream",
     "text": [
      "100%|████████████████████████████████████████████████████████████████████████████| 29603/29603 [29:26<00:00, 16.76it/s]\n",
      "100%|██████████████████████████████████████████████████████████████████████████████| 9868/9868 [05:00<00:00, 32.84it/s]\n"
     ]
    },
    {
     "name": "stdout",
     "output_type": "stream",
     "text": [
      "Train loss: 0.0089, train acc : 0.9888. Val loss: 0.1528, val acc : 0.8726.\n"
     ]
    },
    {
     "name": "stderr",
     "output_type": "stream",
     "text": [
      "100%|████████████████████████████████████████████████████████████████████████████| 29603/29603 [29:27<00:00, 16.74it/s]\n",
      "100%|██████████████████████████████████████████████████████████████████████████████| 9868/9868 [04:55<00:00, 33.36it/s]\n"
     ]
    },
    {
     "name": "stdout",
     "output_type": "stream",
     "text": [
      "Train loss: 0.0094, train acc : 0.9881. Val loss: 0.1506, val acc : 0.8719.\n"
     ]
    },
    {
     "name": "stderr",
     "output_type": "stream",
     "text": [
      "100%|████████████████████████████████████████████████████████████████████████████| 29603/29603 [29:28<00:00, 16.74it/s]\n",
      "100%|██████████████████████████████████████████████████████████████████████████████| 9868/9868 [05:00<00:00, 32.82it/s]\n"
     ]
    },
    {
     "name": "stdout",
     "output_type": "stream",
     "text": [
      "Train loss: 0.0091, train acc : 0.9887. Val loss: 0.1675, val acc : 0.8783.\n"
     ]
    },
    {
     "name": "stderr",
     "output_type": "stream",
     "text": [
      "100%|████████████████████████████████████████████████████████████████████████████| 29603/29603 [29:29<00:00, 16.73it/s]\n",
      "100%|██████████████████████████████████████████████████████████████████████████████| 9868/9868 [04:58<00:00, 33.05it/s]\n"
     ]
    },
    {
     "name": "stdout",
     "output_type": "stream",
     "text": [
      "Train loss: 0.0090, train acc : 0.9889. Val loss: 0.1631, val acc : 0.8792.\n"
     ]
    },
    {
     "name": "stderr",
     "output_type": "stream",
     "text": [
      "100%|████████████████████████████████████████████████████████████████████████████| 29603/29603 [29:29<00:00, 16.73it/s]\n",
      "100%|██████████████████████████████████████████████████████████████████████████████| 9868/9868 [04:59<00:00, 32.91it/s]\n"
     ]
    },
    {
     "name": "stdout",
     "output_type": "stream",
     "text": [
      "Train loss: 0.0089, train acc : 0.9892. Val loss: 0.1475, val acc : 0.8770.\n"
     ]
    },
    {
     "name": "stderr",
     "output_type": "stream",
     "text": [
      "100%|████████████████████████████████████████████████████████████████████████████| 29603/29603 [29:23<00:00, 16.79it/s]\n",
      "100%|██████████████████████████████████████████████████████████████████████████████| 9868/9868 [04:54<00:00, 33.46it/s]\n"
     ]
    },
    {
     "name": "stdout",
     "output_type": "stream",
     "text": [
      "Train loss: 0.0089, train acc : 0.9892. Val loss: 0.1568, val acc : 0.8833.\n"
     ]
    },
    {
     "name": "stderr",
     "output_type": "stream",
     "text": [
      "100%|████████████████████████████████████████████████████████████████████████████| 29603/29603 [29:23<00:00, 16.78it/s]\n",
      "100%|██████████████████████████████████████████████████████████████████████████████| 9868/9868 [04:59<00:00, 32.94it/s]\n"
     ]
    },
    {
     "name": "stdout",
     "output_type": "stream",
     "text": [
      "Train loss: 0.0088, train acc : 0.9892. Val loss: 0.1542, val acc : 0.8727.\n"
     ]
    },
    {
     "name": "stderr",
     "output_type": "stream",
     "text": [
      "100%|████████████████████████████████████████████████████████████████████████████| 29603/29603 [29:30<00:00, 16.72it/s]\n",
      "100%|██████████████████████████████████████████████████████████████████████████████| 9868/9868 [04:58<00:00, 33.04it/s]\n"
     ]
    },
    {
     "name": "stdout",
     "output_type": "stream",
     "text": [
      "Train loss: 0.0089, train acc : 0.9892. Val loss: 0.1450, val acc : 0.8760.\n"
     ]
    },
    {
     "name": "stderr",
     "output_type": "stream",
     "text": [
      "100%|████████████████████████████████████████████████████████████████████████████| 29603/29603 [29:22<00:00, 16.79it/s]\n",
      "100%|██████████████████████████████████████████████████████████████████████████████| 9868/9868 [05:07<00:00, 32.08it/s]\n"
     ]
    },
    {
     "name": "stdout",
     "output_type": "stream",
     "text": [
      "Train loss: 0.0089, train acc : 0.9890. Val loss: 0.1517, val acc : 0.8780.\n"
     ]
    },
    {
     "name": "stderr",
     "output_type": "stream",
     "text": [
      "100%|████████████████████████████████████████████████████████████████████████████| 29603/29603 [29:18<00:00, 16.84it/s]\n",
      "100%|██████████████████████████████████████████████████████████████████████████████| 9868/9868 [04:55<00:00, 33.35it/s]\n"
     ]
    },
    {
     "name": "stdout",
     "output_type": "stream",
     "text": [
      "Train loss: 0.0087, train acc : 0.9892. Val loss: 0.1439, val acc : 0.8602.\n"
     ]
    },
    {
     "name": "stderr",
     "output_type": "stream",
     "text": [
      "100%|████████████████████████████████████████████████████████████████████████████| 29603/29603 [29:24<00:00, 16.77it/s]\n",
      "100%|██████████████████████████████████████████████████████████████████████████████| 9868/9868 [05:00<00:00, 32.89it/s]\n"
     ]
    },
    {
     "name": "stdout",
     "output_type": "stream",
     "text": [
      "Train loss: 0.0086, train acc : 0.9894. Val loss: 0.1583, val acc : 0.8811.\n"
     ]
    },
    {
     "name": "stderr",
     "output_type": "stream",
     "text": [
      "100%|████████████████████████████████████████████████████████████████████████████| 29603/29603 [29:25<00:00, 16.77it/s]\n",
      "100%|██████████████████████████████████████████████████████████████████████████████| 9868/9868 [04:56<00:00, 33.25it/s]\n"
     ]
    },
    {
     "name": "stdout",
     "output_type": "stream",
     "text": [
      "Train loss: 0.0087, train acc : 0.9892. Val loss: 0.1635, val acc : 0.8681.\n"
     ]
    },
    {
     "name": "stderr",
     "output_type": "stream",
     "text": [
      "100%|████████████████████████████████████████████████████████████████████████████| 29603/29603 [29:24<00:00, 16.78it/s]\n",
      "100%|██████████████████████████████████████████████████████████████████████████████| 9868/9868 [05:00<00:00, 32.87it/s]\n"
     ]
    },
    {
     "name": "stdout",
     "output_type": "stream",
     "text": [
      "Train loss: 0.0088, train acc : 0.9893. Val loss: 0.1638, val acc : 0.8788.\n"
     ]
    },
    {
     "name": "stderr",
     "output_type": "stream",
     "text": [
      "100%|████████████████████████████████████████████████████████████████████████████| 29603/29603 [29:14<00:00, 16.87it/s]\n",
      "100%|██████████████████████████████████████████████████████████████████████████████| 9868/9868 [05:00<00:00, 32.86it/s]\n"
     ]
    },
    {
     "name": "stdout",
     "output_type": "stream",
     "text": [
      "Train loss: 0.0091, train acc : 0.9887. Val loss: 0.1572, val acc : 0.8718.\n"
     ]
    },
    {
     "name": "stderr",
     "output_type": "stream",
     "text": [
      "100%|████████████████████████████████████████████████████████████████████████████| 29603/29603 [29:12<00:00, 16.89it/s]\n",
      "100%|██████████████████████████████████████████████████████████████████████████████| 9868/9868 [04:59<00:00, 32.92it/s]\n"
     ]
    },
    {
     "name": "stdout",
     "output_type": "stream",
     "text": [
      "Train loss: 0.0088, train acc : 0.9891. Val loss: 0.1591, val acc : 0.8827.\n"
     ]
    },
    {
     "name": "stderr",
     "output_type": "stream",
     "text": [
      "100%|████████████████████████████████████████████████████████████████████████████| 29603/29603 [29:25<00:00, 16.77it/s]\n",
      "100%|██████████████████████████████████████████████████████████████████████████████| 9868/9868 [04:57<00:00, 33.16it/s]\n"
     ]
    },
    {
     "name": "stdout",
     "output_type": "stream",
     "text": [
      "Train loss: 0.0086, train acc : 0.9893. Val loss: 0.1590, val acc : 0.8830.\n"
     ]
    },
    {
     "name": "stderr",
     "output_type": "stream",
     "text": [
      "100%|████████████████████████████████████████████████████████████████████████████| 29603/29603 [29:34<00:00, 16.68it/s]\n",
      "100%|██████████████████████████████████████████████████████████████████████████████| 9868/9868 [05:01<00:00, 32.72it/s]\n"
     ]
    },
    {
     "name": "stdout",
     "output_type": "stream",
     "text": [
      "Train loss: 0.0090, train acc : 0.9888. Val loss: 0.1458, val acc : 0.8679.\n"
     ]
    },
    {
     "name": "stderr",
     "output_type": "stream",
     "text": [
      "100%|████████████████████████████████████████████████████████████████████████████| 29603/29603 [29:31<00:00, 16.71it/s]\n",
      "100%|██████████████████████████████████████████████████████████████████████████████| 9868/9868 [04:55<00:00, 33.38it/s]\n"
     ]
    },
    {
     "name": "stdout",
     "output_type": "stream",
     "text": [
      "Train loss: 0.0086, train acc : 0.9894. Val loss: 0.1692, val acc : 0.8874.\n"
     ]
    },
    {
     "name": "stderr",
     "output_type": "stream",
     "text": [
      "100%|████████████████████████████████████████████████████████████████████████████| 29603/29603 [29:26<00:00, 16.76it/s]\n",
      "100%|██████████████████████████████████████████████████████████████████████████████| 9868/9868 [05:01<00:00, 32.71it/s]\n"
     ]
    },
    {
     "name": "stdout",
     "output_type": "stream",
     "text": [
      "Train loss: 0.0086, train acc : 0.9894. Val loss: 0.1521, val acc : 0.8792.\n"
     ]
    },
    {
     "name": "stderr",
     "output_type": "stream",
     "text": [
      "100%|████████████████████████████████████████████████████████████████████████████| 29603/29603 [29:33<00:00, 16.69it/s]\n",
      "100%|██████████████████████████████████████████████████████████████████████████████| 9868/9868 [04:57<00:00, 33.15it/s]\n"
     ]
    },
    {
     "name": "stdout",
     "output_type": "stream",
     "text": [
      "Train loss: 0.0086, train acc : 0.9895. Val loss: 0.1526, val acc : 0.8716.\n"
     ]
    },
    {
     "name": "stderr",
     "output_type": "stream",
     "text": [
      "100%|████████████████████████████████████████████████████████████████████████████| 29603/29603 [29:34<00:00, 16.68it/s]\n",
      "100%|██████████████████████████████████████████████████████████████████████████████| 9868/9868 [05:01<00:00, 32.68it/s]\n"
     ]
    },
    {
     "name": "stdout",
     "output_type": "stream",
     "text": [
      "Train loss: 0.0088, train acc : 0.9894. Val loss: 0.1683, val acc : 0.8827.\n"
     ]
    },
    {
     "name": "stderr",
     "output_type": "stream",
     "text": [
      "100%|████████████████████████████████████████████████████████████████████████████| 29603/29603 [29:26<00:00, 16.76it/s]\n",
      "100%|██████████████████████████████████████████████████████████████████████████████| 9868/9868 [04:55<00:00, 33.35it/s]\n"
     ]
    },
    {
     "name": "stdout",
     "output_type": "stream",
     "text": [
      "Train loss: 0.0087, train acc : 0.9892. Val loss: 0.1477, val acc : 0.8699.\n"
     ]
    },
    {
     "name": "stderr",
     "output_type": "stream",
     "text": [
      "100%|████████████████████████████████████████████████████████████████████████████| 29603/29603 [29:21<00:00, 16.81it/s]\n",
      "100%|██████████████████████████████████████████████████████████████████████████████| 9868/9868 [04:59<00:00, 32.97it/s]\n"
     ]
    },
    {
     "name": "stdout",
     "output_type": "stream",
     "text": [
      "Train loss: 0.0086, train acc : 0.9897. Val loss: 0.1701, val acc : 0.8917.\n"
     ]
    },
    {
     "name": "stderr",
     "output_type": "stream",
     "text": [
      "100%|████████████████████████████████████████████████████████████████████████████| 29603/29603 [29:23<00:00, 16.78it/s]\n",
      "100%|██████████████████████████████████████████████████████████████████████████████| 9868/9868 [04:54<00:00, 33.46it/s]\n"
     ]
    },
    {
     "name": "stdout",
     "output_type": "stream",
     "text": [
      "Train loss: 0.0088, train acc : 0.9892. Val loss: 0.1609, val acc : 0.8864.\n"
     ]
    },
    {
     "name": "stderr",
     "output_type": "stream",
     "text": [
      "100%|████████████████████████████████████████████████████████████████████████████| 29603/29603 [29:22<00:00, 16.80it/s]\n",
      "100%|██████████████████████████████████████████████████████████████████████████████| 9868/9868 [05:02<00:00, 32.65it/s]\n"
     ]
    },
    {
     "name": "stdout",
     "output_type": "stream",
     "text": [
      "Train loss: 0.0086, train acc : 0.9897. Val loss: 0.1642, val acc : 0.8869.\n"
     ]
    },
    {
     "name": "stderr",
     "output_type": "stream",
     "text": [
      "100%|████████████████████████████████████████████████████████████████████████████| 29603/29603 [29:25<00:00, 16.76it/s]\n",
      "100%|██████████████████████████████████████████████████████████████████████████████| 9868/9868 [04:55<00:00, 33.42it/s]\n"
     ]
    },
    {
     "name": "stdout",
     "output_type": "stream",
     "text": [
      "Train loss: 0.0084, train acc : 0.9898. Val loss: 0.1737, val acc : 0.8887.\n"
     ]
    },
    {
     "name": "stderr",
     "output_type": "stream",
     "text": [
      "100%|████████████████████████████████████████████████████████████████████████████| 29603/29603 [29:25<00:00, 16.76it/s]\n",
      "100%|██████████████████████████████████████████████████████████████████████████████| 9868/9868 [04:59<00:00, 32.94it/s]\n"
     ]
    },
    {
     "name": "stdout",
     "output_type": "stream",
     "text": [
      "Train loss: 0.0086, train acc : 0.9892. Val loss: 0.1809, val acc : 0.8846.\n"
     ]
    },
    {
     "name": "stderr",
     "output_type": "stream",
     "text": [
      "100%|████████████████████████████████████████████████████████████████████████████| 29603/29603 [29:20<00:00, 16.81it/s]\n",
      "100%|██████████████████████████████████████████████████████████████████████████████| 9868/9868 [04:56<00:00, 33.28it/s]\n"
     ]
    },
    {
     "name": "stdout",
     "output_type": "stream",
     "text": [
      "Train loss: 0.0086, train acc : 0.9894. Val loss: 0.1644, val acc : 0.8790.\n"
     ]
    },
    {
     "name": "stderr",
     "output_type": "stream",
     "text": [
      "100%|████████████████████████████████████████████████████████████████████████████| 29603/29603 [29:25<00:00, 16.77it/s]\n",
      "100%|██████████████████████████████████████████████████████████████████████████████| 9868/9868 [04:59<00:00, 32.92it/s]\n"
     ]
    },
    {
     "name": "stdout",
     "output_type": "stream",
     "text": [
      "Train loss: 0.0088, train acc : 0.9893. Val loss: 0.1698, val acc : 0.8842.\n"
     ]
    },
    {
     "name": "stderr",
     "output_type": "stream",
     "text": [
      "100%|████████████████████████████████████████████████████████████████████████████| 29603/29603 [29:23<00:00, 16.79it/s]\n",
      "100%|██████████████████████████████████████████████████████████████████████████████| 9868/9868 [04:55<00:00, 33.39it/s]\n"
     ]
    },
    {
     "name": "stdout",
     "output_type": "stream",
     "text": [
      "Train loss: 0.0085, train acc : 0.9894. Val loss: 0.1574, val acc : 0.8864.\n"
     ]
    },
    {
     "name": "stderr",
     "output_type": "stream",
     "text": [
      "100%|████████████████████████████████████████████████████████████████████████████| 29603/29603 [29:23<00:00, 16.79it/s]\n",
      "100%|██████████████████████████████████████████████████████████████████████████████| 9868/9868 [04:59<00:00, 32.92it/s]\n"
     ]
    },
    {
     "name": "stdout",
     "output_type": "stream",
     "text": [
      "Train loss: 0.0086, train acc : 0.9895. Val loss: 0.1656, val acc : 0.8824.\n"
     ]
    },
    {
     "name": "stderr",
     "output_type": "stream",
     "text": [
      "100%|████████████████████████████████████████████████████████████████████████████| 29603/29603 [29:23<00:00, 16.78it/s]\n",
      "100%|██████████████████████████████████████████████████████████████████████████████| 9868/9868 [04:55<00:00, 33.44it/s]\n"
     ]
    },
    {
     "name": "stdout",
     "output_type": "stream",
     "text": [
      "Train loss: 0.0084, train acc : 0.9895. Val loss: 0.1642, val acc : 0.8790.\n"
     ]
    },
    {
     "name": "stderr",
     "output_type": "stream",
     "text": [
      "100%|████████████████████████████████████████████████████████████████████████████| 29603/29603 [29:22<00:00, 16.79it/s]\n",
      "100%|██████████████████████████████████████████████████████████████████████████████| 9868/9868 [04:59<00:00, 32.90it/s]\n"
     ]
    },
    {
     "name": "stdout",
     "output_type": "stream",
     "text": [
      "Train loss: 0.0086, train acc : 0.9894. Val loss: 0.1713, val acc : 0.8846.\n"
     ]
    },
    {
     "name": "stderr",
     "output_type": "stream",
     "text": [
      "100%|████████████████████████████████████████████████████████████████████████████| 29603/29603 [29:32<00:00, 16.70it/s]\n",
      "100%|██████████████████████████████████████████████████████████████████████████████| 9868/9868 [04:57<00:00, 33.14it/s]\n"
     ]
    },
    {
     "name": "stdout",
     "output_type": "stream",
     "text": [
      "Train loss: 0.0084, train acc : 0.9896. Val loss: 0.1490, val acc : 0.8606.\n"
     ]
    },
    {
     "name": "stderr",
     "output_type": "stream",
     "text": [
      "100%|████████████████████████████████████████████████████████████████████████████| 29603/29603 [29:28<00:00, 16.74it/s]\n",
      "100%|██████████████████████████████████████████████████████████████████████████████| 9868/9868 [05:00<00:00, 32.84it/s]\n"
     ]
    },
    {
     "name": "stdout",
     "output_type": "stream",
     "text": [
      "Train loss: 0.0084, train acc : 0.9893. Val loss: 0.1478, val acc : 0.8708.\n"
     ]
    },
    {
     "name": "stderr",
     "output_type": "stream",
     "text": [
      "100%|████████████████████████████████████████████████████████████████████████████| 29603/29603 [29:25<00:00, 16.77it/s]\n",
      "100%|██████████████████████████████████████████████████████████████████████████████| 9868/9868 [04:55<00:00, 33.34it/s]\n"
     ]
    },
    {
     "name": "stdout",
     "output_type": "stream",
     "text": [
      "Train loss: 0.0086, train acc : 0.9893. Val loss: 0.1500, val acc : 0.8693.\n"
     ]
    },
    {
     "name": "stderr",
     "output_type": "stream",
     "text": [
      "100%|████████████████████████████████████████████████████████████████████████████| 29603/29603 [29:23<00:00, 16.79it/s]\n",
      "100%|██████████████████████████████████████████████████████████████████████████████| 9868/9868 [05:00<00:00, 32.81it/s]\n"
     ]
    },
    {
     "name": "stdout",
     "output_type": "stream",
     "text": [
      "Train loss: 0.0084, train acc : 0.9896. Val loss: 0.1681, val acc : 0.8809.\n"
     ]
    },
    {
     "name": "stderr",
     "output_type": "stream",
     "text": [
      "100%|████████████████████████████████████████████████████████████████████████████| 29603/29603 [29:22<00:00, 16.80it/s]\n",
      "100%|██████████████████████████████████████████████████████████████████████████████| 9868/9868 [04:55<00:00, 33.40it/s]\n"
     ]
    },
    {
     "name": "stdout",
     "output_type": "stream",
     "text": [
      "Train loss: 0.0086, train acc : 0.9893. Val loss: 0.1570, val acc : 0.8740.\n"
     ]
    },
    {
     "name": "stderr",
     "output_type": "stream",
     "text": [
      " 13%|█████████▋                                                                   | 3732/29603 [03:43<25:51, 16.68it/s]\n"
     ]
    },
    {
     "ename": "KeyboardInterrupt",
     "evalue": "",
     "output_type": "error",
     "traceback": [
      "\u001b[1;31m---------------------------------------------------------------------------\u001b[0m",
      "\u001b[1;31mKeyboardInterrupt\u001b[0m                         Traceback (most recent call last)",
      "\u001b[1;32mC:\\Users\\4918~1\\AppData\\Local\\Temp/ipykernel_23136/3138655641.py\u001b[0m in \u001b[0;36m<module>\u001b[1;34m\u001b[0m\n\u001b[1;32m----> 1\u001b[1;33m model_results = train(model=model,\n\u001b[0m\u001b[0;32m      2\u001b[0m                       \u001b[0mtrain_dataloader\u001b[0m\u001b[1;33m=\u001b[0m\u001b[0mtrain_dataloader\u001b[0m\u001b[1;33m,\u001b[0m\u001b[1;33m\u001b[0m\u001b[1;33m\u001b[0m\u001b[0m\n\u001b[0;32m      3\u001b[0m                       \u001b[0mval_dataloader\u001b[0m\u001b[1;33m=\u001b[0m\u001b[0mtest_dataloader\u001b[0m\u001b[1;33m,\u001b[0m\u001b[1;33m\u001b[0m\u001b[1;33m\u001b[0m\u001b[0m\n\u001b[0;32m      4\u001b[0m                       \u001b[0mloss_fn\u001b[0m\u001b[1;33m=\u001b[0m\u001b[0mloss\u001b[0m\u001b[1;33m,\u001b[0m\u001b[1;33m\u001b[0m\u001b[1;33m\u001b[0m\u001b[0m\n\u001b[0;32m      5\u001b[0m                       \u001b[0moptimizer\u001b[0m\u001b[1;33m=\u001b[0m\u001b[0moptimizer\u001b[0m\u001b[1;33m,\u001b[0m\u001b[1;33m\u001b[0m\u001b[1;33m\u001b[0m\u001b[0m\n",
      "\u001b[1;32mC:\\Users\\4918~1\\AppData\\Local\\Temp/ipykernel_23136/3595121991.py\u001b[0m in \u001b[0;36mtrain\u001b[1;34m(model, train_dataloader, val_dataloader, loss_fn, optimizer, epochs, scheduler_train, scheduler_val, writer)\u001b[0m\n\u001b[0;32m      8\u001b[0m \u001b[1;33m\u001b[0m\u001b[0m\n\u001b[0;32m      9\u001b[0m     \u001b[1;32mfor\u001b[0m \u001b[0mepoch\u001b[0m \u001b[1;32min\u001b[0m \u001b[0mrange\u001b[0m\u001b[1;33m(\u001b[0m\u001b[1;36m10000\u001b[0m\u001b[1;33m)\u001b[0m\u001b[1;33m:\u001b[0m\u001b[1;33m\u001b[0m\u001b[1;33m\u001b[0m\u001b[0m\n\u001b[1;32m---> 10\u001b[1;33m         train_loss, train_acc = train_step(model=model,\n\u001b[0m\u001b[0;32m     11\u001b[0m                                            \u001b[0mdataloader\u001b[0m\u001b[1;33m=\u001b[0m\u001b[0mtrain_dataloader\u001b[0m\u001b[1;33m,\u001b[0m\u001b[1;33m\u001b[0m\u001b[1;33m\u001b[0m\u001b[0m\n\u001b[0;32m     12\u001b[0m                                            \u001b[0mloss_fn\u001b[0m\u001b[1;33m=\u001b[0m\u001b[0mloss_fn\u001b[0m\u001b[1;33m,\u001b[0m\u001b[1;33m\u001b[0m\u001b[1;33m\u001b[0m\u001b[0m\n",
      "\u001b[1;32mC:\\Users\\4918~1\\AppData\\Local\\Temp/ipykernel_23136/372253872.py\u001b[0m in \u001b[0;36mtrain_step\u001b[1;34m(model, dataloader, loss_fn, optimizer, scheduler)\u001b[0m\n\u001b[0;32m     21\u001b[0m         \u001b[0mloss\u001b[0m\u001b[1;33m.\u001b[0m\u001b[0mbackward\u001b[0m\u001b[1;33m(\u001b[0m\u001b[1;33m)\u001b[0m\u001b[1;33m\u001b[0m\u001b[1;33m\u001b[0m\u001b[0m\n\u001b[0;32m     22\u001b[0m \u001b[1;33m\u001b[0m\u001b[0m\n\u001b[1;32m---> 23\u001b[1;33m         \u001b[0moptimizer\u001b[0m\u001b[1;33m.\u001b[0m\u001b[0mstep\u001b[0m\u001b[1;33m(\u001b[0m\u001b[1;33m)\u001b[0m\u001b[1;33m\u001b[0m\u001b[1;33m\u001b[0m\u001b[0m\n\u001b[0m\u001b[0;32m     24\u001b[0m \u001b[1;33m\u001b[0m\u001b[0m\n\u001b[0;32m     25\u001b[0m         \u001b[0mtrain_loss\u001b[0m \u001b[1;33m+=\u001b[0m \u001b[0mloss\u001b[0m\u001b[1;33m.\u001b[0m\u001b[0mitem\u001b[0m\u001b[1;33m(\u001b[0m\u001b[1;33m)\u001b[0m\u001b[1;33m\u001b[0m\u001b[1;33m\u001b[0m\u001b[0m\n",
      "\u001b[1;32mC:\\ProgramData\\Anaconda3\\lib\\site-packages\\torch\\optim\\lr_scheduler.py\u001b[0m in \u001b[0;36mwrapper\u001b[1;34m(*args, **kwargs)\u001b[0m\n\u001b[0;32m     66\u001b[0m                 \u001b[0minstance\u001b[0m\u001b[1;33m.\u001b[0m\u001b[0m_step_count\u001b[0m \u001b[1;33m+=\u001b[0m \u001b[1;36m1\u001b[0m\u001b[1;33m\u001b[0m\u001b[1;33m\u001b[0m\u001b[0m\n\u001b[0;32m     67\u001b[0m                 \u001b[0mwrapped\u001b[0m \u001b[1;33m=\u001b[0m \u001b[0mfunc\u001b[0m\u001b[1;33m.\u001b[0m\u001b[0m__get__\u001b[0m\u001b[1;33m(\u001b[0m\u001b[0minstance\u001b[0m\u001b[1;33m,\u001b[0m \u001b[0mcls\u001b[0m\u001b[1;33m)\u001b[0m\u001b[1;33m\u001b[0m\u001b[1;33m\u001b[0m\u001b[0m\n\u001b[1;32m---> 68\u001b[1;33m                 \u001b[1;32mreturn\u001b[0m \u001b[0mwrapped\u001b[0m\u001b[1;33m(\u001b[0m\u001b[1;33m*\u001b[0m\u001b[0margs\u001b[0m\u001b[1;33m,\u001b[0m \u001b[1;33m**\u001b[0m\u001b[0mkwargs\u001b[0m\u001b[1;33m)\u001b[0m\u001b[1;33m\u001b[0m\u001b[1;33m\u001b[0m\u001b[0m\n\u001b[0m\u001b[0;32m     69\u001b[0m \u001b[1;33m\u001b[0m\u001b[0m\n\u001b[0;32m     70\u001b[0m             \u001b[1;31m# Note that the returned function here is no longer a bound method,\u001b[0m\u001b[1;33m\u001b[0m\u001b[1;33m\u001b[0m\u001b[1;33m\u001b[0m\u001b[0m\n",
      "\u001b[1;32mC:\\ProgramData\\Anaconda3\\lib\\site-packages\\torch\\optim\\optimizer.py\u001b[0m in \u001b[0;36mwrapper\u001b[1;34m(*args, **kwargs)\u001b[0m\n\u001b[0;32m    138\u001b[0m                 \u001b[0mprofile_name\u001b[0m \u001b[1;33m=\u001b[0m \u001b[1;34m\"Optimizer.step#{}.step\"\u001b[0m\u001b[1;33m.\u001b[0m\u001b[0mformat\u001b[0m\u001b[1;33m(\u001b[0m\u001b[0mobj\u001b[0m\u001b[1;33m.\u001b[0m\u001b[0m__class__\u001b[0m\u001b[1;33m.\u001b[0m\u001b[0m__name__\u001b[0m\u001b[1;33m)\u001b[0m\u001b[1;33m\u001b[0m\u001b[1;33m\u001b[0m\u001b[0m\n\u001b[0;32m    139\u001b[0m                 \u001b[1;32mwith\u001b[0m \u001b[0mtorch\u001b[0m\u001b[1;33m.\u001b[0m\u001b[0mautograd\u001b[0m\u001b[1;33m.\u001b[0m\u001b[0mprofiler\u001b[0m\u001b[1;33m.\u001b[0m\u001b[0mrecord_function\u001b[0m\u001b[1;33m(\u001b[0m\u001b[0mprofile_name\u001b[0m\u001b[1;33m)\u001b[0m\u001b[1;33m:\u001b[0m\u001b[1;33m\u001b[0m\u001b[1;33m\u001b[0m\u001b[0m\n\u001b[1;32m--> 140\u001b[1;33m                     \u001b[0mout\u001b[0m \u001b[1;33m=\u001b[0m \u001b[0mfunc\u001b[0m\u001b[1;33m(\u001b[0m\u001b[1;33m*\u001b[0m\u001b[0margs\u001b[0m\u001b[1;33m,\u001b[0m \u001b[1;33m**\u001b[0m\u001b[0mkwargs\u001b[0m\u001b[1;33m)\u001b[0m\u001b[1;33m\u001b[0m\u001b[1;33m\u001b[0m\u001b[0m\n\u001b[0m\u001b[0;32m    141\u001b[0m                     \u001b[0mobj\u001b[0m\u001b[1;33m.\u001b[0m\u001b[0m_optimizer_step_code\u001b[0m\u001b[1;33m(\u001b[0m\u001b[1;33m)\u001b[0m\u001b[1;33m\u001b[0m\u001b[1;33m\u001b[0m\u001b[0m\n\u001b[0;32m    142\u001b[0m                     \u001b[1;32mreturn\u001b[0m \u001b[0mout\u001b[0m\u001b[1;33m\u001b[0m\u001b[1;33m\u001b[0m\u001b[0m\n",
      "\u001b[1;32mC:\\ProgramData\\Anaconda3\\lib\\site-packages\\torch\\autograd\\grad_mode.py\u001b[0m in \u001b[0;36mdecorate_context\u001b[1;34m(*args, **kwargs)\u001b[0m\n\u001b[0;32m     25\u001b[0m         \u001b[1;32mdef\u001b[0m \u001b[0mdecorate_context\u001b[0m\u001b[1;33m(\u001b[0m\u001b[1;33m*\u001b[0m\u001b[0margs\u001b[0m\u001b[1;33m,\u001b[0m \u001b[1;33m**\u001b[0m\u001b[0mkwargs\u001b[0m\u001b[1;33m)\u001b[0m\u001b[1;33m:\u001b[0m\u001b[1;33m\u001b[0m\u001b[1;33m\u001b[0m\u001b[0m\n\u001b[0;32m     26\u001b[0m             \u001b[1;32mwith\u001b[0m \u001b[0mself\u001b[0m\u001b[1;33m.\u001b[0m\u001b[0mclone\u001b[0m\u001b[1;33m(\u001b[0m\u001b[1;33m)\u001b[0m\u001b[1;33m:\u001b[0m\u001b[1;33m\u001b[0m\u001b[1;33m\u001b[0m\u001b[0m\n\u001b[1;32m---> 27\u001b[1;33m                 \u001b[1;32mreturn\u001b[0m \u001b[0mfunc\u001b[0m\u001b[1;33m(\u001b[0m\u001b[1;33m*\u001b[0m\u001b[0margs\u001b[0m\u001b[1;33m,\u001b[0m \u001b[1;33m**\u001b[0m\u001b[0mkwargs\u001b[0m\u001b[1;33m)\u001b[0m\u001b[1;33m\u001b[0m\u001b[1;33m\u001b[0m\u001b[0m\n\u001b[0m\u001b[0;32m     28\u001b[0m         \u001b[1;32mreturn\u001b[0m \u001b[0mcast\u001b[0m\u001b[1;33m(\u001b[0m\u001b[0mF\u001b[0m\u001b[1;33m,\u001b[0m \u001b[0mdecorate_context\u001b[0m\u001b[1;33m)\u001b[0m\u001b[1;33m\u001b[0m\u001b[1;33m\u001b[0m\u001b[0m\n\u001b[0;32m     29\u001b[0m \u001b[1;33m\u001b[0m\u001b[0m\n",
      "\u001b[1;32mC:\\ProgramData\\Anaconda3\\lib\\site-packages\\torch\\optim\\adamw.py\u001b[0m in \u001b[0;36mstep\u001b[1;34m(self, closure)\u001b[0m\n\u001b[0;32m    160\u001b[0m                 \u001b[0mstate_steps\u001b[0m\u001b[1;33m.\u001b[0m\u001b[0mappend\u001b[0m\u001b[1;33m(\u001b[0m\u001b[0mstate\u001b[0m\u001b[1;33m[\u001b[0m\u001b[1;34m'step'\u001b[0m\u001b[1;33m]\u001b[0m\u001b[1;33m)\u001b[0m\u001b[1;33m\u001b[0m\u001b[1;33m\u001b[0m\u001b[0m\n\u001b[0;32m    161\u001b[0m \u001b[1;33m\u001b[0m\u001b[0m\n\u001b[1;32m--> 162\u001b[1;33m             adamw(params_with_grad,\n\u001b[0m\u001b[0;32m    163\u001b[0m                   \u001b[0mgrads\u001b[0m\u001b[1;33m,\u001b[0m\u001b[1;33m\u001b[0m\u001b[1;33m\u001b[0m\u001b[0m\n\u001b[0;32m    164\u001b[0m                   \u001b[0mexp_avgs\u001b[0m\u001b[1;33m,\u001b[0m\u001b[1;33m\u001b[0m\u001b[1;33m\u001b[0m\u001b[0m\n",
      "\u001b[1;32mC:\\ProgramData\\Anaconda3\\lib\\site-packages\\torch\\optim\\adamw.py\u001b[0m in \u001b[0;36madamw\u001b[1;34m(params, grads, exp_avgs, exp_avg_sqs, max_exp_avg_sqs, state_steps, foreach, capturable, amsgrad, beta1, beta2, lr, weight_decay, eps, maximize)\u001b[0m\n\u001b[0;32m    217\u001b[0m         \u001b[0mfunc\u001b[0m \u001b[1;33m=\u001b[0m \u001b[0m_single_tensor_adamw\u001b[0m\u001b[1;33m\u001b[0m\u001b[1;33m\u001b[0m\u001b[0m\n\u001b[0;32m    218\u001b[0m \u001b[1;33m\u001b[0m\u001b[0m\n\u001b[1;32m--> 219\u001b[1;33m     func(params,\n\u001b[0m\u001b[0;32m    220\u001b[0m          \u001b[0mgrads\u001b[0m\u001b[1;33m,\u001b[0m\u001b[1;33m\u001b[0m\u001b[1;33m\u001b[0m\u001b[0m\n\u001b[0;32m    221\u001b[0m          \u001b[0mexp_avgs\u001b[0m\u001b[1;33m,\u001b[0m\u001b[1;33m\u001b[0m\u001b[1;33m\u001b[0m\u001b[0m\n",
      "\u001b[1;32mC:\\ProgramData\\Anaconda3\\lib\\site-packages\\torch\\optim\\adamw.py\u001b[0m in \u001b[0;36m_single_tensor_adamw\u001b[1;34m(params, grads, exp_avgs, exp_avg_sqs, max_exp_avg_sqs, state_steps, amsgrad, beta1, beta2, lr, weight_decay, eps, maximize, capturable)\u001b[0m\n\u001b[0;32m    299\u001b[0m             \u001b[0mparam\u001b[0m\u001b[1;33m.\u001b[0m\u001b[0maddcdiv_\u001b[0m\u001b[1;33m(\u001b[0m\u001b[0mexp_avg\u001b[0m\u001b[1;33m,\u001b[0m \u001b[0mdenom\u001b[0m\u001b[1;33m)\u001b[0m\u001b[1;33m\u001b[0m\u001b[1;33m\u001b[0m\u001b[0m\n\u001b[0;32m    300\u001b[0m         \u001b[1;32melse\u001b[0m\u001b[1;33m:\u001b[0m\u001b[1;33m\u001b[0m\u001b[1;33m\u001b[0m\u001b[0m\n\u001b[1;32m--> 301\u001b[1;33m             \u001b[0mstep\u001b[0m \u001b[1;33m=\u001b[0m \u001b[0mstep_t\u001b[0m\u001b[1;33m.\u001b[0m\u001b[0mitem\u001b[0m\u001b[1;33m(\u001b[0m\u001b[1;33m)\u001b[0m\u001b[1;33m\u001b[0m\u001b[1;33m\u001b[0m\u001b[0m\n\u001b[0m\u001b[0;32m    302\u001b[0m \u001b[1;33m\u001b[0m\u001b[0m\n\u001b[0;32m    303\u001b[0m             \u001b[0mbias_correction1\u001b[0m \u001b[1;33m=\u001b[0m \u001b[1;36m1\u001b[0m \u001b[1;33m-\u001b[0m \u001b[0mbeta1\u001b[0m \u001b[1;33m**\u001b[0m \u001b[0mstep\u001b[0m\u001b[1;33m\u001b[0m\u001b[1;33m\u001b[0m\u001b[0m\n",
      "\u001b[1;31mKeyboardInterrupt\u001b[0m: "
     ]
    }
   ],
   "source": [
    "model_results = train(model=model,\n",
    "                      train_dataloader=train_dataloader,\n",
    "                      val_dataloader=test_dataloader,\n",
    "                      loss_fn=loss,\n",
    "                      optimizer=optimizer,\n",
    "                      #scheduler_val=plateau_scheduler,\n",
    "                      epochs=200\n",
    "                     )"
   ]
  },
  {
   "cell_type": "code",
   "execution_count": 41,
   "id": "a1586dac",
   "metadata": {},
   "outputs": [],
   "source": [
    "torch.save(model.state_dict(), r'C:\\temp\\big_model.h5')"
   ]
  },
  {
   "cell_type": "code",
   "execution_count": null,
   "id": "535c102a",
   "metadata": {},
   "outputs": [],
   "source": [
    "def make_prediction(dataloader, model):\n",
    "    model.eval()\n",
    "    predicted = []\n",
    "\n",
    "    for images_batch in tqdm(dataloader, leave=True, desc=\"Images\"):\n",
    "        with torch.inference_mode():\n",
    "            images_batch = images_batch.cuda()\n",
    "            outputs = model(images_batch)\n",
    "            probs = nn.functional.softmax(outputs, dim=-1).cpu().numpy()\n",
    "            pred = np.argmax(probs, axis=1)\n",
    "            predicted.extend(pred)\n",
    "    \n",
    "    return predicted"
   ]
  },
  {
   "cell_type": "code",
   "execution_count": null,
   "id": "fde075d6",
   "metadata": {},
   "outputs": [],
   "source": [
    "def make_prediction(dataloader, model):\n",
    "    model.eval()\n",
    "    \n",
    "    predictions = []\n",
    "    fact = []\n",
    "\n",
    "    with torch.inference_mode():\n",
    "        index = 0\n",
    "        for batch in tqdm(dataloader):\n",
    "            inputs, labels = batch\n",
    "            #labels = labels.long()\n",
    "            inputs, labels = inputs.cuda(), labels.reshape(-1).cpu().numpy()\n",
    "\n",
    "            outputs = model(inputs)\n",
    "            probs = nn.functional.softmax(outputs, dim=-1).cpu().numpy()\n",
    "            pred = np.argmax(probs, axis=1)\n",
    "            predictions.append(pred)\n",
    "            fact.append(labels)\n",
    "            index += 1\n",
    "            if index == 20:\n",
    "                break\n",
    "    return predictions, fact"
   ]
  },
  {
   "cell_type": "code",
   "execution_count": 906,
   "id": "c28015be",
   "metadata": {},
   "outputs": [
    {
     "name": "stderr",
     "output_type": "stream",
     "text": [
      "  0%|▏                                                                               | 19/9868 [00:00<07:25, 22.10it/s]\n"
     ]
    }
   ],
   "source": [
    "predictions, fact = make_prediction(test_dataloader, model)"
   ]
  },
  {
   "cell_type": "code",
   "execution_count": 907,
   "id": "4d2b9349",
   "metadata": {},
   "outputs": [
    {
     "data": {
      "text/plain": [
       "array([1, 0, 0, 1, 0, 0, 0, 0, 0, 0, 0, 0, 0, 0, 0, 0, 0, 0, 0, 1, 0, 0,\n",
       "       0, 0, 0, 0, 0, 0, 0, 0, 0, 0, 0, 0, 0, 0, 0, 0, 0, 0, 0, 0, 0, 0,\n",
       "       0, 0, 1, 0, 0, 1, 0, 1, 0, 0, 0, 0, 0, 0, 0, 0, 0, 0, 0, 0, 0, 0,\n",
       "       0, 0, 0, 0, 0, 0, 0, 0, 0, 0, 0, 1, 0, 0, 0, 0, 0, 0, 0, 0, 0, 1,\n",
       "       0, 0, 0, 0, 0, 0, 0, 0, 0, 0, 0, 0, 0, 0, 0, 0, 0, 0, 0, 0, 0, 0,\n",
       "       0, 0, 1, 0, 1, 0, 1, 0, 0, 0, 0, 0, 0, 0, 0, 1, 0, 0, 0, 0, 0, 0,\n",
       "       0, 0, 0, 0, 0, 1, 0, 0, 0, 1, 0, 0, 0, 0, 0, 1, 0, 0, 0, 0, 1, 0,\n",
       "       0, 0, 0, 0, 0, 0], dtype=int64)"
      ]
     },
     "execution_count": 907,
     "metadata": {},
     "output_type": "execute_result"
    }
   ],
   "source": [
    "np.array(predictions).reshape(-1)"
   ]
  },
  {
   "cell_type": "code",
   "execution_count": 908,
   "id": "cb062534",
   "metadata": {},
   "outputs": [
    {
     "data": {
      "text/plain": [
       "array([0, 0, 0, 0, 0, 0, 0, 0, 0, 0, 1, 0, 0, 0, 0, 1, 1, 0, 0, 0, 0, 0,\n",
       "       0, 0, 0, 0, 0, 0, 0, 0, 0, 0, 0, 0, 0, 0, 1, 0, 0, 0, 0, 0, 0, 0,\n",
       "       0, 0, 0, 0, 0, 0, 0, 1, 0, 0, 0, 1, 0, 0, 0, 0, 0, 0, 0, 0, 0, 0,\n",
       "       0, 0, 0, 1, 0, 0, 0, 0, 0, 0, 1, 1, 0, 0, 0, 0, 0, 0, 0, 0, 0, 1,\n",
       "       0, 0, 0, 0, 0, 0, 0, 0, 0, 0, 0, 0, 0, 0, 1, 0, 0, 0, 0, 0, 0, 0,\n",
       "       0, 0, 0, 1, 0, 0, 0, 0, 0, 0, 0, 0, 0, 0, 0, 0, 0, 0, 0, 0, 0, 0,\n",
       "       0, 0, 0, 0, 0, 1, 0, 0, 0, 1, 0, 0, 0, 0, 0, 1, 0, 0, 0, 0, 0, 0,\n",
       "       0, 0, 0, 0, 0, 0], dtype=int64)"
      ]
     },
     "execution_count": 908,
     "metadata": {},
     "output_type": "execute_result"
    }
   ],
   "source": [
    "np.array(fact).reshape(-1)"
   ]
  },
  {
   "cell_type": "code",
   "execution_count": null,
   "id": "79ba96b9",
   "metadata": {},
   "outputs": [],
   "source": []
  },
  {
   "cell_type": "code",
   "execution_count": null,
   "id": "c8a8adb1",
   "metadata": {},
   "outputs": [],
   "source": []
  }
 ],
 "metadata": {
  "kernelspec": {
   "display_name": "Python 3 (ipykernel)",
   "language": "python",
   "name": "python3"
  },
  "language_info": {
   "codemirror_mode": {
    "name": "ipython",
    "version": 3
   },
   "file_extension": ".py",
   "mimetype": "text/x-python",
   "name": "python",
   "nbconvert_exporter": "python",
   "pygments_lexer": "ipython3",
   "version": "3.11.5"
  }
 },
 "nbformat": 4,
 "nbformat_minor": 5
}
